{
  "nbformat": 4,
  "nbformat_minor": 0,
  "metadata": {
    "colab": {
      "name": "dul_hw4.ipynb",
      "provenance": [],
      "collapsed_sections": []
    },
    "kernelspec": {
      "name": "python3",
      "display_name": "Python 3"
    },
    "accelerator": "GPU",
    "widgets": {
      "application/vnd.jupyter.widget-state+json": {
        "f3c44f5cd85f44f4927b7a489edbda77": {
          "model_module": "@jupyter-widgets/controls",
          "model_name": "HBoxModel",
          "state": {
            "_view_name": "HBoxView",
            "_dom_classes": [],
            "_model_name": "HBoxModel",
            "_view_module": "@jupyter-widgets/controls",
            "_model_module_version": "1.5.0",
            "_view_count": null,
            "_view_module_version": "1.5.0",
            "box_style": "",
            "layout": "IPY_MODEL_961bf43722ec4a83ba8f67cb2e717903",
            "_model_module": "@jupyter-widgets/controls",
            "children": [
              "IPY_MODEL_cb938158f220447f8d8c8b82c5c0f812",
              "IPY_MODEL_8c6cc8992afc48b6a6660a797907f653"
            ]
          }
        },
        "961bf43722ec4a83ba8f67cb2e717903": {
          "model_module": "@jupyter-widgets/base",
          "model_name": "LayoutModel",
          "state": {
            "_view_name": "LayoutView",
            "grid_template_rows": null,
            "right": null,
            "justify_content": null,
            "_view_module": "@jupyter-widgets/base",
            "overflow": null,
            "_model_module_version": "1.2.0",
            "_view_count": null,
            "flex_flow": null,
            "width": null,
            "min_width": null,
            "border": null,
            "align_items": null,
            "bottom": null,
            "_model_module": "@jupyter-widgets/base",
            "top": null,
            "grid_column": null,
            "overflow_y": null,
            "overflow_x": null,
            "grid_auto_flow": null,
            "grid_area": null,
            "grid_template_columns": null,
            "flex": null,
            "_model_name": "LayoutModel",
            "justify_items": null,
            "grid_row": null,
            "max_height": null,
            "align_content": null,
            "visibility": null,
            "align_self": null,
            "height": null,
            "min_height": null,
            "padding": null,
            "grid_auto_rows": null,
            "grid_gap": null,
            "max_width": null,
            "order": null,
            "_view_module_version": "1.2.0",
            "grid_template_areas": null,
            "object_position": null,
            "object_fit": null,
            "grid_auto_columns": null,
            "margin": null,
            "display": null,
            "left": null
          }
        },
        "cb938158f220447f8d8c8b82c5c0f812": {
          "model_module": "@jupyter-widgets/controls",
          "model_name": "FloatProgressModel",
          "state": {
            "_view_name": "ProgressView",
            "style": "IPY_MODEL_3f7b4efc6856456d88ff1f1e96e6e0c0",
            "_dom_classes": [],
            "description": "100%",
            "_model_name": "FloatProgressModel",
            "bar_style": "success",
            "max": 25,
            "_view_module": "@jupyter-widgets/controls",
            "_model_module_version": "1.5.0",
            "value": 25,
            "_view_count": null,
            "_view_module_version": "1.5.0",
            "orientation": "horizontal",
            "min": 0,
            "description_tooltip": null,
            "_model_module": "@jupyter-widgets/controls",
            "layout": "IPY_MODEL_3964f88087734036b9ed4d1de20bbd6e"
          }
        },
        "8c6cc8992afc48b6a6660a797907f653": {
          "model_module": "@jupyter-widgets/controls",
          "model_name": "HTMLModel",
          "state": {
            "_view_name": "HTMLView",
            "style": "IPY_MODEL_4a41229d87114e43a6a874ea7ba52a97",
            "_dom_classes": [],
            "description": "",
            "_model_name": "HTMLModel",
            "placeholder": "​",
            "_view_module": "@jupyter-widgets/controls",
            "_model_module_version": "1.5.0",
            "value": " 25/25 [00:55&lt;00:00,  2.23s/it, Epoch #24, c_loss: 1.3864, g_loss: -0.6932]",
            "_view_count": null,
            "_view_module_version": "1.5.0",
            "description_tooltip": null,
            "_model_module": "@jupyter-widgets/controls",
            "layout": "IPY_MODEL_29681e406b4143eb84b1190afa70e686"
          }
        },
        "3f7b4efc6856456d88ff1f1e96e6e0c0": {
          "model_module": "@jupyter-widgets/controls",
          "model_name": "ProgressStyleModel",
          "state": {
            "_view_name": "StyleView",
            "_model_name": "ProgressStyleModel",
            "description_width": "initial",
            "_view_module": "@jupyter-widgets/base",
            "_model_module_version": "1.5.0",
            "_view_count": null,
            "_view_module_version": "1.2.0",
            "bar_color": null,
            "_model_module": "@jupyter-widgets/controls"
          }
        },
        "3964f88087734036b9ed4d1de20bbd6e": {
          "model_module": "@jupyter-widgets/base",
          "model_name": "LayoutModel",
          "state": {
            "_view_name": "LayoutView",
            "grid_template_rows": null,
            "right": null,
            "justify_content": null,
            "_view_module": "@jupyter-widgets/base",
            "overflow": null,
            "_model_module_version": "1.2.0",
            "_view_count": null,
            "flex_flow": null,
            "width": null,
            "min_width": null,
            "border": null,
            "align_items": null,
            "bottom": null,
            "_model_module": "@jupyter-widgets/base",
            "top": null,
            "grid_column": null,
            "overflow_y": null,
            "overflow_x": null,
            "grid_auto_flow": null,
            "grid_area": null,
            "grid_template_columns": null,
            "flex": null,
            "_model_name": "LayoutModel",
            "justify_items": null,
            "grid_row": null,
            "max_height": null,
            "align_content": null,
            "visibility": null,
            "align_self": null,
            "height": null,
            "min_height": null,
            "padding": null,
            "grid_auto_rows": null,
            "grid_gap": null,
            "max_width": null,
            "order": null,
            "_view_module_version": "1.2.0",
            "grid_template_areas": null,
            "object_position": null,
            "object_fit": null,
            "grid_auto_columns": null,
            "margin": null,
            "display": null,
            "left": null
          }
        },
        "4a41229d87114e43a6a874ea7ba52a97": {
          "model_module": "@jupyter-widgets/controls",
          "model_name": "DescriptionStyleModel",
          "state": {
            "_view_name": "StyleView",
            "_model_name": "DescriptionStyleModel",
            "description_width": "",
            "_view_module": "@jupyter-widgets/base",
            "_model_module_version": "1.5.0",
            "_view_count": null,
            "_view_module_version": "1.2.0",
            "_model_module": "@jupyter-widgets/controls"
          }
        },
        "29681e406b4143eb84b1190afa70e686": {
          "model_module": "@jupyter-widgets/base",
          "model_name": "LayoutModel",
          "state": {
            "_view_name": "LayoutView",
            "grid_template_rows": null,
            "right": null,
            "justify_content": null,
            "_view_module": "@jupyter-widgets/base",
            "overflow": null,
            "_model_module_version": "1.2.0",
            "_view_count": null,
            "flex_flow": null,
            "width": null,
            "min_width": null,
            "border": null,
            "align_items": null,
            "bottom": null,
            "_model_module": "@jupyter-widgets/base",
            "top": null,
            "grid_column": null,
            "overflow_y": null,
            "overflow_x": null,
            "grid_auto_flow": null,
            "grid_area": null,
            "grid_template_columns": null,
            "flex": null,
            "_model_name": "LayoutModel",
            "justify_items": null,
            "grid_row": null,
            "max_height": null,
            "align_content": null,
            "visibility": null,
            "align_self": null,
            "height": null,
            "min_height": null,
            "padding": null,
            "grid_auto_rows": null,
            "grid_gap": null,
            "max_width": null,
            "order": null,
            "_view_module_version": "1.2.0",
            "grid_template_areas": null,
            "object_position": null,
            "object_fit": null,
            "grid_auto_columns": null,
            "margin": null,
            "display": null,
            "left": null
          }
        },
        "852ace7793874cdda7129e83ab8cb3e7": {
          "model_module": "@jupyter-widgets/controls",
          "model_name": "HBoxModel",
          "state": {
            "_view_name": "HBoxView",
            "_dom_classes": [],
            "_model_name": "HBoxModel",
            "_view_module": "@jupyter-widgets/controls",
            "_model_module_version": "1.5.0",
            "_view_count": null,
            "_view_module_version": "1.5.0",
            "box_style": "",
            "layout": "IPY_MODEL_1699042e26ef45c69885ee6a3ab92f2c",
            "_model_module": "@jupyter-widgets/controls",
            "children": [
              "IPY_MODEL_9c3d7c85a4d44c56b3ea42d0e5163210",
              "IPY_MODEL_af275196c85f4ddcb810ea33a05183a2"
            ]
          }
        },
        "1699042e26ef45c69885ee6a3ab92f2c": {
          "model_module": "@jupyter-widgets/base",
          "model_name": "LayoutModel",
          "state": {
            "_view_name": "LayoutView",
            "grid_template_rows": null,
            "right": null,
            "justify_content": null,
            "_view_module": "@jupyter-widgets/base",
            "overflow": null,
            "_model_module_version": "1.2.0",
            "_view_count": null,
            "flex_flow": null,
            "width": null,
            "min_width": null,
            "border": null,
            "align_items": null,
            "bottom": null,
            "_model_module": "@jupyter-widgets/base",
            "top": null,
            "grid_column": null,
            "overflow_y": null,
            "overflow_x": null,
            "grid_auto_flow": null,
            "grid_area": null,
            "grid_template_columns": null,
            "flex": null,
            "_model_name": "LayoutModel",
            "justify_items": null,
            "grid_row": null,
            "max_height": null,
            "align_content": null,
            "visibility": null,
            "align_self": null,
            "height": null,
            "min_height": null,
            "padding": null,
            "grid_auto_rows": null,
            "grid_gap": null,
            "max_width": null,
            "order": null,
            "_view_module_version": "1.2.0",
            "grid_template_areas": null,
            "object_position": null,
            "object_fit": null,
            "grid_auto_columns": null,
            "margin": null,
            "display": null,
            "left": null
          }
        },
        "9c3d7c85a4d44c56b3ea42d0e5163210": {
          "model_module": "@jupyter-widgets/controls",
          "model_name": "FloatProgressModel",
          "state": {
            "_view_name": "ProgressView",
            "style": "IPY_MODEL_492dbab0c086462e98b898dafef880df",
            "_dom_classes": [],
            "description": "100%",
            "_model_name": "FloatProgressModel",
            "bar_style": "success",
            "max": 25,
            "_view_module": "@jupyter-widgets/controls",
            "_model_module_version": "1.5.0",
            "value": 25,
            "_view_count": null,
            "_view_module_version": "1.5.0",
            "orientation": "horizontal",
            "min": 0,
            "description_tooltip": null,
            "_model_module": "@jupyter-widgets/controls",
            "layout": "IPY_MODEL_745aced841e7406c81bb1c604e3b1276"
          }
        },
        "af275196c85f4ddcb810ea33a05183a2": {
          "model_module": "@jupyter-widgets/controls",
          "model_name": "HTMLModel",
          "state": {
            "_view_name": "HTMLView",
            "style": "IPY_MODEL_488992d9e395486886dfdcb2b5a6a378",
            "_dom_classes": [],
            "description": "",
            "_model_name": "HTMLModel",
            "placeholder": "​",
            "_view_module": "@jupyter-widgets/controls",
            "_model_module_version": "1.5.0",
            "value": " 25/25 [1:08:00&lt;00:00, 163.21s/it, Epoch #24, c_loss: 1.3863, g_loss: 0.6936]",
            "_view_count": null,
            "_view_module_version": "1.5.0",
            "description_tooltip": null,
            "_model_module": "@jupyter-widgets/controls",
            "layout": "IPY_MODEL_5c7e7dda4da54e11873e333ada593618"
          }
        },
        "492dbab0c086462e98b898dafef880df": {
          "model_module": "@jupyter-widgets/controls",
          "model_name": "ProgressStyleModel",
          "state": {
            "_view_name": "StyleView",
            "_model_name": "ProgressStyleModel",
            "description_width": "initial",
            "_view_module": "@jupyter-widgets/base",
            "_model_module_version": "1.5.0",
            "_view_count": null,
            "_view_module_version": "1.2.0",
            "bar_color": null,
            "_model_module": "@jupyter-widgets/controls"
          }
        },
        "745aced841e7406c81bb1c604e3b1276": {
          "model_module": "@jupyter-widgets/base",
          "model_name": "LayoutModel",
          "state": {
            "_view_name": "LayoutView",
            "grid_template_rows": null,
            "right": null,
            "justify_content": null,
            "_view_module": "@jupyter-widgets/base",
            "overflow": null,
            "_model_module_version": "1.2.0",
            "_view_count": null,
            "flex_flow": null,
            "width": null,
            "min_width": null,
            "border": null,
            "align_items": null,
            "bottom": null,
            "_model_module": "@jupyter-widgets/base",
            "top": null,
            "grid_column": null,
            "overflow_y": null,
            "overflow_x": null,
            "grid_auto_flow": null,
            "grid_area": null,
            "grid_template_columns": null,
            "flex": null,
            "_model_name": "LayoutModel",
            "justify_items": null,
            "grid_row": null,
            "max_height": null,
            "align_content": null,
            "visibility": null,
            "align_self": null,
            "height": null,
            "min_height": null,
            "padding": null,
            "grid_auto_rows": null,
            "grid_gap": null,
            "max_width": null,
            "order": null,
            "_view_module_version": "1.2.0",
            "grid_template_areas": null,
            "object_position": null,
            "object_fit": null,
            "grid_auto_columns": null,
            "margin": null,
            "display": null,
            "left": null
          }
        },
        "488992d9e395486886dfdcb2b5a6a378": {
          "model_module": "@jupyter-widgets/controls",
          "model_name": "DescriptionStyleModel",
          "state": {
            "_view_name": "StyleView",
            "_model_name": "DescriptionStyleModel",
            "description_width": "",
            "_view_module": "@jupyter-widgets/base",
            "_model_module_version": "1.5.0",
            "_view_count": null,
            "_view_module_version": "1.2.0",
            "_model_module": "@jupyter-widgets/controls"
          }
        },
        "5c7e7dda4da54e11873e333ada593618": {
          "model_module": "@jupyter-widgets/base",
          "model_name": "LayoutModel",
          "state": {
            "_view_name": "LayoutView",
            "grid_template_rows": null,
            "right": null,
            "justify_content": null,
            "_view_module": "@jupyter-widgets/base",
            "overflow": null,
            "_model_module_version": "1.2.0",
            "_view_count": null,
            "flex_flow": null,
            "width": null,
            "min_width": null,
            "border": null,
            "align_items": null,
            "bottom": null,
            "_model_module": "@jupyter-widgets/base",
            "top": null,
            "grid_column": null,
            "overflow_y": null,
            "overflow_x": null,
            "grid_auto_flow": null,
            "grid_area": null,
            "grid_template_columns": null,
            "flex": null,
            "_model_name": "LayoutModel",
            "justify_items": null,
            "grid_row": null,
            "max_height": null,
            "align_content": null,
            "visibility": null,
            "align_self": null,
            "height": null,
            "min_height": null,
            "padding": null,
            "grid_auto_rows": null,
            "grid_gap": null,
            "max_width": null,
            "order": null,
            "_view_module_version": "1.2.0",
            "grid_template_areas": null,
            "object_position": null,
            "object_fit": null,
            "grid_auto_columns": null,
            "margin": null,
            "display": null,
            "left": null
          }
        },
        "3b872c7b2f954c20b950ec30a7fdce24": {
          "model_module": "@jupyter-widgets/controls",
          "model_name": "HBoxModel",
          "state": {
            "_view_name": "HBoxView",
            "_dom_classes": [],
            "_model_name": "HBoxModel",
            "_view_module": "@jupyter-widgets/controls",
            "_model_module_version": "1.5.0",
            "_view_count": null,
            "_view_module_version": "1.5.0",
            "box_style": "",
            "layout": "IPY_MODEL_45dc9f9bfab1405d9a3cc2fea11646dd",
            "_model_module": "@jupyter-widgets/controls",
            "children": [
              "IPY_MODEL_aed1216399344f4b96076b00ea5bcfa4",
              "IPY_MODEL_2fe7967ef15c46bc9c5675ccf988bcfb"
            ]
          }
        },
        "45dc9f9bfab1405d9a3cc2fea11646dd": {
          "model_module": "@jupyter-widgets/base",
          "model_name": "LayoutModel",
          "state": {
            "_view_name": "LayoutView",
            "grid_template_rows": null,
            "right": null,
            "justify_content": null,
            "_view_module": "@jupyter-widgets/base",
            "overflow": null,
            "_model_module_version": "1.2.0",
            "_view_count": null,
            "flex_flow": null,
            "width": null,
            "min_width": null,
            "border": null,
            "align_items": null,
            "bottom": null,
            "_model_module": "@jupyter-widgets/base",
            "top": null,
            "grid_column": null,
            "overflow_y": null,
            "overflow_x": null,
            "grid_auto_flow": null,
            "grid_area": null,
            "grid_template_columns": null,
            "flex": null,
            "_model_name": "LayoutModel",
            "justify_items": null,
            "grid_row": null,
            "max_height": null,
            "align_content": null,
            "visibility": null,
            "align_self": null,
            "height": null,
            "min_height": null,
            "padding": null,
            "grid_auto_rows": null,
            "grid_gap": null,
            "max_width": null,
            "order": null,
            "_view_module_version": "1.2.0",
            "grid_template_areas": null,
            "object_position": null,
            "object_fit": null,
            "grid_auto_columns": null,
            "margin": null,
            "display": null,
            "left": null
          }
        },
        "aed1216399344f4b96076b00ea5bcfa4": {
          "model_module": "@jupyter-widgets/controls",
          "model_name": "FloatProgressModel",
          "state": {
            "_view_name": "ProgressView",
            "style": "IPY_MODEL_c0946a8d8a4346e8bd557722301a01b1",
            "_dom_classes": [],
            "description": "  0%",
            "_model_name": "FloatProgressModel",
            "bar_style": "",
            "max": 30,
            "_view_module": "@jupyter-widgets/controls",
            "_model_module_version": "1.5.0",
            "value": 0,
            "_view_count": null,
            "_view_module_version": "1.5.0",
            "orientation": "horizontal",
            "min": 0,
            "description_tooltip": null,
            "_model_module": "@jupyter-widgets/controls",
            "layout": "IPY_MODEL_d00c2827004443aa9740541c8a56d0c7"
          }
        },
        "2fe7967ef15c46bc9c5675ccf988bcfb": {
          "model_module": "@jupyter-widgets/controls",
          "model_name": "HTMLModel",
          "state": {
            "_view_name": "HTMLView",
            "style": "IPY_MODEL_bd9135c6ddcc43a4aaf05b3ce32a3e4c",
            "_dom_classes": [],
            "description": "",
            "_model_name": "HTMLModel",
            "placeholder": "​",
            "_view_module": "@jupyter-widgets/controls",
            "_model_module_version": "1.5.0",
            "value": " 0/30 [00:00&lt;?, ?it/s]",
            "_view_count": null,
            "_view_module_version": "1.5.0",
            "description_tooltip": null,
            "_model_module": "@jupyter-widgets/controls",
            "layout": "IPY_MODEL_39d24d7527cc4cf5bf30930839da748c"
          }
        },
        "c0946a8d8a4346e8bd557722301a01b1": {
          "model_module": "@jupyter-widgets/controls",
          "model_name": "ProgressStyleModel",
          "state": {
            "_view_name": "StyleView",
            "_model_name": "ProgressStyleModel",
            "description_width": "initial",
            "_view_module": "@jupyter-widgets/base",
            "_model_module_version": "1.5.0",
            "_view_count": null,
            "_view_module_version": "1.2.0",
            "bar_color": null,
            "_model_module": "@jupyter-widgets/controls"
          }
        },
        "d00c2827004443aa9740541c8a56d0c7": {
          "model_module": "@jupyter-widgets/base",
          "model_name": "LayoutModel",
          "state": {
            "_view_name": "LayoutView",
            "grid_template_rows": null,
            "right": null,
            "justify_content": null,
            "_view_module": "@jupyter-widgets/base",
            "overflow": null,
            "_model_module_version": "1.2.0",
            "_view_count": null,
            "flex_flow": null,
            "width": null,
            "min_width": null,
            "border": null,
            "align_items": null,
            "bottom": null,
            "_model_module": "@jupyter-widgets/base",
            "top": null,
            "grid_column": null,
            "overflow_y": null,
            "overflow_x": null,
            "grid_auto_flow": null,
            "grid_area": null,
            "grid_template_columns": null,
            "flex": null,
            "_model_name": "LayoutModel",
            "justify_items": null,
            "grid_row": null,
            "max_height": null,
            "align_content": null,
            "visibility": null,
            "align_self": null,
            "height": null,
            "min_height": null,
            "padding": null,
            "grid_auto_rows": null,
            "grid_gap": null,
            "max_width": null,
            "order": null,
            "_view_module_version": "1.2.0",
            "grid_template_areas": null,
            "object_position": null,
            "object_fit": null,
            "grid_auto_columns": null,
            "margin": null,
            "display": null,
            "left": null
          }
        },
        "bd9135c6ddcc43a4aaf05b3ce32a3e4c": {
          "model_module": "@jupyter-widgets/controls",
          "model_name": "DescriptionStyleModel",
          "state": {
            "_view_name": "StyleView",
            "_model_name": "DescriptionStyleModel",
            "description_width": "",
            "_view_module": "@jupyter-widgets/base",
            "_model_module_version": "1.5.0",
            "_view_count": null,
            "_view_module_version": "1.2.0",
            "_model_module": "@jupyter-widgets/controls"
          }
        },
        "39d24d7527cc4cf5bf30930839da748c": {
          "model_module": "@jupyter-widgets/base",
          "model_name": "LayoutModel",
          "state": {
            "_view_name": "LayoutView",
            "grid_template_rows": null,
            "right": null,
            "justify_content": null,
            "_view_module": "@jupyter-widgets/base",
            "overflow": null,
            "_model_module_version": "1.2.0",
            "_view_count": null,
            "flex_flow": null,
            "width": null,
            "min_width": null,
            "border": null,
            "align_items": null,
            "bottom": null,
            "_model_module": "@jupyter-widgets/base",
            "top": null,
            "grid_column": null,
            "overflow_y": null,
            "overflow_x": null,
            "grid_auto_flow": null,
            "grid_area": null,
            "grid_template_columns": null,
            "flex": null,
            "_model_name": "LayoutModel",
            "justify_items": null,
            "grid_row": null,
            "max_height": null,
            "align_content": null,
            "visibility": null,
            "align_self": null,
            "height": null,
            "min_height": null,
            "padding": null,
            "grid_auto_rows": null,
            "grid_gap": null,
            "max_width": null,
            "order": null,
            "_view_module_version": "1.2.0",
            "grid_template_areas": null,
            "object_position": null,
            "object_fit": null,
            "grid_auto_columns": null,
            "margin": null,
            "display": null,
            "left": null
          }
        },
        "7dd5e096df9b499d813b88254765e175": {
          "model_module": "@jupyter-widgets/controls",
          "model_name": "HBoxModel",
          "state": {
            "_view_name": "HBoxView",
            "_dom_classes": [],
            "_model_name": "HBoxModel",
            "_view_module": "@jupyter-widgets/controls",
            "_model_module_version": "1.5.0",
            "_view_count": null,
            "_view_module_version": "1.5.0",
            "box_style": "",
            "layout": "IPY_MODEL_8662f3d255b8443a9501bc88e150c7b9",
            "_model_module": "@jupyter-widgets/controls",
            "children": [
              "IPY_MODEL_a7895ecccfe44c5dbefd872873c937c0",
              "IPY_MODEL_cadb059bbbb24f0891a09f8fd7d7bb9a"
            ]
          }
        },
        "8662f3d255b8443a9501bc88e150c7b9": {
          "model_module": "@jupyter-widgets/base",
          "model_name": "LayoutModel",
          "state": {
            "_view_name": "LayoutView",
            "grid_template_rows": null,
            "right": null,
            "justify_content": null,
            "_view_module": "@jupyter-widgets/base",
            "overflow": null,
            "_model_module_version": "1.2.0",
            "_view_count": null,
            "flex_flow": null,
            "width": null,
            "min_width": null,
            "border": null,
            "align_items": null,
            "bottom": null,
            "_model_module": "@jupyter-widgets/base",
            "top": null,
            "grid_column": null,
            "overflow_y": null,
            "overflow_x": null,
            "grid_auto_flow": null,
            "grid_area": null,
            "grid_template_columns": null,
            "flex": null,
            "_model_name": "LayoutModel",
            "justify_items": null,
            "grid_row": null,
            "max_height": null,
            "align_content": null,
            "visibility": null,
            "align_self": null,
            "height": null,
            "min_height": null,
            "padding": null,
            "grid_auto_rows": null,
            "grid_gap": null,
            "max_width": null,
            "order": null,
            "_view_module_version": "1.2.0",
            "grid_template_areas": null,
            "object_position": null,
            "object_fit": null,
            "grid_auto_columns": null,
            "margin": null,
            "display": null,
            "left": null
          }
        },
        "a7895ecccfe44c5dbefd872873c937c0": {
          "model_module": "@jupyter-widgets/controls",
          "model_name": "FloatProgressModel",
          "state": {
            "_view_name": "ProgressView",
            "style": "IPY_MODEL_6f2ce91558db4240864889694b4ab319",
            "_dom_classes": [],
            "description": "  4%",
            "_model_name": "FloatProgressModel",
            "bar_style": "",
            "max": 98,
            "_view_module": "@jupyter-widgets/controls",
            "_model_module_version": "1.5.0",
            "value": 4,
            "_view_count": null,
            "_view_module_version": "1.5.0",
            "orientation": "horizontal",
            "min": 0,
            "description_tooltip": null,
            "_model_module": "@jupyter-widgets/controls",
            "layout": "IPY_MODEL_5a5d42f009bf43fd97e10a498aa7cf51"
          }
        },
        "cadb059bbbb24f0891a09f8fd7d7bb9a": {
          "model_module": "@jupyter-widgets/controls",
          "model_name": "HTMLModel",
          "state": {
            "_view_name": "HTMLView",
            "style": "IPY_MODEL_1687a505c2ba43f5aea1434adfc20643",
            "_dom_classes": [],
            "description": "",
            "_model_name": "HTMLModel",
            "placeholder": "​",
            "_view_module": "@jupyter-widgets/controls",
            "_model_module_version": "1.5.0",
            "value": " 4/98 [00:07&lt;02:43,  1.74s/it]",
            "_view_count": null,
            "_view_module_version": "1.5.0",
            "description_tooltip": null,
            "_model_module": "@jupyter-widgets/controls",
            "layout": "IPY_MODEL_28e01b7594fd4db4b2f0fe71090ade2f"
          }
        },
        "6f2ce91558db4240864889694b4ab319": {
          "model_module": "@jupyter-widgets/controls",
          "model_name": "ProgressStyleModel",
          "state": {
            "_view_name": "StyleView",
            "_model_name": "ProgressStyleModel",
            "description_width": "initial",
            "_view_module": "@jupyter-widgets/base",
            "_model_module_version": "1.5.0",
            "_view_count": null,
            "_view_module_version": "1.2.0",
            "bar_color": null,
            "_model_module": "@jupyter-widgets/controls"
          }
        },
        "5a5d42f009bf43fd97e10a498aa7cf51": {
          "model_module": "@jupyter-widgets/base",
          "model_name": "LayoutModel",
          "state": {
            "_view_name": "LayoutView",
            "grid_template_rows": null,
            "right": null,
            "justify_content": null,
            "_view_module": "@jupyter-widgets/base",
            "overflow": null,
            "_model_module_version": "1.2.0",
            "_view_count": null,
            "flex_flow": null,
            "width": null,
            "min_width": null,
            "border": null,
            "align_items": null,
            "bottom": null,
            "_model_module": "@jupyter-widgets/base",
            "top": null,
            "grid_column": null,
            "overflow_y": null,
            "overflow_x": null,
            "grid_auto_flow": null,
            "grid_area": null,
            "grid_template_columns": null,
            "flex": null,
            "_model_name": "LayoutModel",
            "justify_items": null,
            "grid_row": null,
            "max_height": null,
            "align_content": null,
            "visibility": null,
            "align_self": null,
            "height": null,
            "min_height": null,
            "padding": null,
            "grid_auto_rows": null,
            "grid_gap": null,
            "max_width": null,
            "order": null,
            "_view_module_version": "1.2.0",
            "grid_template_areas": null,
            "object_position": null,
            "object_fit": null,
            "grid_auto_columns": null,
            "margin": null,
            "display": null,
            "left": null
          }
        },
        "1687a505c2ba43f5aea1434adfc20643": {
          "model_module": "@jupyter-widgets/controls",
          "model_name": "DescriptionStyleModel",
          "state": {
            "_view_name": "StyleView",
            "_model_name": "DescriptionStyleModel",
            "description_width": "",
            "_view_module": "@jupyter-widgets/base",
            "_model_module_version": "1.5.0",
            "_view_count": null,
            "_view_module_version": "1.2.0",
            "_model_module": "@jupyter-widgets/controls"
          }
        },
        "28e01b7594fd4db4b2f0fe71090ade2f": {
          "model_module": "@jupyter-widgets/base",
          "model_name": "LayoutModel",
          "state": {
            "_view_name": "LayoutView",
            "grid_template_rows": null,
            "right": null,
            "justify_content": null,
            "_view_module": "@jupyter-widgets/base",
            "overflow": null,
            "_model_module_version": "1.2.0",
            "_view_count": null,
            "flex_flow": null,
            "width": null,
            "min_width": null,
            "border": null,
            "align_items": null,
            "bottom": null,
            "_model_module": "@jupyter-widgets/base",
            "top": null,
            "grid_column": null,
            "overflow_y": null,
            "overflow_x": null,
            "grid_auto_flow": null,
            "grid_area": null,
            "grid_template_columns": null,
            "flex": null,
            "_model_name": "LayoutModel",
            "justify_items": null,
            "grid_row": null,
            "max_height": null,
            "align_content": null,
            "visibility": null,
            "align_self": null,
            "height": null,
            "min_height": null,
            "padding": null,
            "grid_auto_rows": null,
            "grid_gap": null,
            "max_width": null,
            "order": null,
            "_view_module_version": "1.2.0",
            "grid_template_areas": null,
            "object_position": null,
            "object_fit": null,
            "grid_auto_columns": null,
            "margin": null,
            "display": null,
            "left": null
          }
        }
      }
    }
  },
  "cells": [
    {
      "cell_type": "markdown",
      "metadata": {
        "id": "view-in-github"
      },
      "source": [
        "<a href=\"https://colab.research.google.com/github/rll/deepul/blob/master/homeworks/solutions/hw4_solutions.ipynb\" target=\"_parent\"><img src=\"https://colab.research.google.com/assets/colab-badge.svg\" alt=\"Open In Colab\"/></a>"
      ]
    },
    {
      "cell_type": "markdown",
      "metadata": {
        "id": "VtqwhK9q9D-h"
      },
      "source": [
        "# Getting Started\n",
        "\n",
        "## Overview\n",
        "This semester, all homeworks will be conducted through Google Colab notebooks. All code for the homework assignment will be written and run in this notebook. Running in Colab will automatically provide a GPU, but you may also run this notebook locally by following [these instructions](https://research.google.com/colaboratory/local-runtimes.html) if you wish to use your own GPU.\n",
        "\n",
        "You will save images in the notebooks to use and fill out a given LaTeX template which will be submitted to Gradescope, along with your notebook code.\n",
        "\n",
        "## Using Colab\n",
        "On the left-hand side, you can click the different icons to see a Table of Contents of the assignment, as well as local files accessible through the notebook.\n",
        "\n",
        "Make sure to go to **Runtime -> Change runtime type** and select **GPU** as the hardware accelerator. This allows you to use a GPU. Run the cells below to get started on the assignment. Note that a session is open for a maximum of 12 hours, and using too much GPU compute may result in restricted access for a short period of time. Please start the homework early so you have ample time to work.\n",
        "\n",
        "**If you loaded this notebook from clicking \"Open in Colab\" from github, you will need to save it to your own Google Drive to keep your work.**\n",
        "\n",
        "## General Tips\n",
        "In each homework problem, you will implement a GAN model and run it on a dataset. We provide the expected outputs to help as a sanity check.\n",
        "\n",
        "Feel free to print whatever output (e.g. debugging code, training code, etc) you want, as the graded submission will be the submitted pdf with images.\n",
        "\n",
        "After you complete the assignment, download all of the image outputted in the results/ folder and upload them to the figure folder in the given latex template.\n",
        "\n",
        "Run the cells below to download and load up the starter code."
      ]
    },
    {
      "cell_type": "code",
      "metadata": {
        "id": "sfd-DkFA9AWI",
        "colab": {
          "base_uri": "https://localhost:8080/"
        },
        "outputId": "54ec6cbc-6893-48f6-ba08-d10f0f71ab33"
      },
      "source": [
        "!if [ -d deepul ]; then rm -Rf deepul; fi\n",
        "!git clone https://github.com/rll/deepul.git \n",
        "!pip install ./deepul"
      ],
      "execution_count": 1,
      "outputs": [
        {
          "output_type": "stream",
          "text": [
            "Cloning into 'deepul'...\n",
            "remote: Enumerating objects: 9, done.\u001b[K\n",
            "remote: Counting objects: 100% (9/9), done.\u001b[K\n",
            "remote: Compressing objects: 100% (9/9), done.\u001b[K\n",
            "remote: Total 758 (delta 1), reused 0 (delta 0), pack-reused 749\u001b[K\n",
            "Receiving objects: 100% (758/758), 117.08 MiB | 35.64 MiB/s, done.\n",
            "Resolving deltas: 100% (346/346), done.\n",
            "Checking out files: 100% (129/129), done.\n",
            "Processing ./deepul\n",
            "Building wheels for collected packages: deepul\n",
            "  Building wheel for deepul (setup.py) ... \u001b[?25l\u001b[?25hdone\n",
            "  Created wheel for deepul: filename=deepul-0.1.0-cp36-none-any.whl size=16678 sha256=59415297dd7a1092fbb7de05c28ad79e28bc109ee2b245acac2ef2e319fb51ed\n",
            "  Stored in directory: /tmp/pip-ephem-wheel-cache-zk2ejsq9/wheels/39/1a/4b/a6f51db275abb2e5dae32540e06ed5011e792f162467bd3aa8\n",
            "Successfully built deepul\n",
            "Installing collected packages: deepul\n",
            "  Found existing installation: deepul 0.1.0\n",
            "    Uninstalling deepul-0.1.0:\n",
            "      Successfully uninstalled deepul-0.1.0\n",
            "Successfully installed deepul-0.1.0\n"
          ],
          "name": "stdout"
        }
      ]
    },
    {
      "cell_type": "code",
      "metadata": {
        "id": "QSb6D-qQ9W7L"
      },
      "source": [
        "from deepul.hw4_helper import *\n",
        "import deepul.pytorch_util as ptu\n",
        "import warnings\n",
        "warnings.filterwarnings('ignore')"
      ],
      "execution_count": 1,
      "outputs": []
    },
    {
      "cell_type": "markdown",
      "metadata": {
        "id": "vYa4i0uxspaA"
      },
      "source": [
        "# Question 1: Warmup [20pt]\n",
        "\n",
        "In this question, we will train 3 different variants of GANs on an easy 1D dataset. \n",
        "\n",
        "Execute the cell below to visualize our datasets."
      ]
    },
    {
      "cell_type": "code",
      "metadata": {
        "id": "Fb5MioT8SZzN",
        "colab": {
          "base_uri": "https://localhost:8080/",
          "height": 265
        },
        "outputId": "7786bf76-f696-4648-cae1-6e39131a6a56"
      },
      "source": [
        "visualize_q1_dataset()"
      ],
      "execution_count": 2,
      "outputs": [
        {
          "output_type": "display_data",
          "data": {
            "image/png": "[encoded data removed]",
            "text/plain": [
              "<Figure size 432x288 with 1 Axes>"
            ]
          },
          "metadata": {
            "tags": [],
            "needs_background": "light"
          }
        }
      ]
    },
    {
      "cell_type": "code",
      "metadata": {
        "id": "osR7PW_NLRu-"
      },
      "source": [
        "import numpy as np\n",
        "import matplotlib.pyplot as plt\n",
        "import torch\n",
        "import torch.nn as nn\n",
        "import torch.nn.functional as F\n",
        "\n",
        "from torch.optim import Adam\n",
        "from torch.distributions import Normal\n",
        "from torch.utils.data import DataLoader\n",
        "from scipy.stats import norm\n",
        "from tqdm.autonotebook import tqdm"
      ],
      "execution_count": 3,
      "outputs": []
    },
    {
      "cell_type": "code",
      "metadata": {
        "id": "5_WvUFe7Goew"
      },
      "source": [
        "device = torch.device('cuda' if torch.cuda.is_available() else \"cpu\")"
      ],
      "execution_count": 4,
      "outputs": []
    },
    {
      "cell_type": "code",
      "metadata": {
        "colab": {
          "base_uri": "https://localhost:8080/"
        },
        "id": "fh8_YdhKR6P4",
        "outputId": "2c98b0f3-d859-4d0f-e38c-c01c352f19d1"
      },
      "source": [
        "device"
      ],
      "execution_count": 5,
      "outputs": [
        {
          "output_type": "execute_result",
          "data": {
            "text/plain": [
              "device(type='cuda')"
            ]
          },
          "metadata": {
            "tags": []
          },
          "execution_count": 5
        }
      ]
    },
    {
      "cell_type": "markdown",
      "metadata": {
        "id": "WSOkSmHSL2c3"
      },
      "source": [
        "## Part 1(a)\n",
        "In this part, we'll train our generator and discriminator via the original minimax GAN objective:\n",
        "<insert GAN Objective here>\n",
        "$$min_{G} max_{D} \\mathbb{E}_{x \\sim p_{data}} [\\log D(x)] + \\mathbb{E}_{z \\sim p(z)}[\\log (1-D(G(z)))]$$\n",
        "\n",
        "Use an MLP for both your generator and your discriminator, and train until the generated distribution resembles the target distribution. \n",
        "\n"
      ]
    },
    {
      "cell_type": "markdown",
      "metadata": {
        "id": "rKl7kyUPwPSJ"
      },
      "source": [
        "### Solution"
      ]
    },
    {
      "cell_type": "code",
      "metadata": {
        "id": "j0NfR5wyGsa8"
      },
      "source": [
        "class Trainer:\r\n",
        "    def __init__(self, critic, generator, train_loader, num_epochs=10, lr=1e-2, clip_grad=1., generator_step=2, non_saturating=False):\r\n",
        "        self.critic = critic\r\n",
        "        self.generator = generator\r\n",
        "        self.critic_optimizer = Adam(critic.parameters(), lr=lr, betas=(0, 0.9))\r\n",
        "        self.generator_optimizer = Adam(generator.parameters(), lr=lr, betas=(0, 0.9))\r\n",
        "        self.lr = lr\r\n",
        "        self.clip_grad = clip_grad\r\n",
        "        self.generator_step = generator_step\r\n",
        "        self.num_epochs = num_epochs\r\n",
        "        self.train_loader = train_loader\r\n",
        "        self.non_saturating = non_saturating\r\n",
        "\r\n",
        "    def generator_loss(self, x):\r\n",
        "        data_gen = self.generator.sample(x.shape[0])\r\n",
        "        \r\n",
        "        if self.non_saturating:\r\n",
        "            return -torch.mean(self.critic(data_gen).log())\r\n",
        "        \r\n",
        "        return torch.mean((1 - self.critic(data_gen)).log())\r\n",
        "\r\n",
        "    def critic_loss(self, x):\r\n",
        "        data_gen = self.generator.sample(x.shape[0])\r\n",
        "        return - torch.mean((1 - self.critic(data_gen)).log()) \\\r\n",
        "               - torch.mean(self.critic(x).log())\r\n",
        "\r\n",
        "    def train(self):\r\n",
        "        train_losses = [[], []]\r\n",
        "        pbar = tqdm(range(self.num_epochs), total=self.num_epochs)\r\n",
        "        for epoch in pbar:\r\n",
        "            if epoch == 1:\r\n",
        "                samples_init = self.draw_samples()\r\n",
        "            \r\n",
        "            epoch_losses = self.train_epoch()\r\n",
        "            g_loss = np.mean(epoch_losses[0])\r\n",
        "            c_loss = np.mean(epoch_losses[1])\r\n",
        "            for i in range(2):\r\n",
        "                train_losses[i].extend(epoch_losses[i])\r\n",
        "            \r\n",
        "            pbar.set_postfix_str(f'Epoch #{epoch}, c_loss: {c_loss:.4f}, g_loss: {g_loss:.4f}')\r\n",
        "\r\n",
        "        samples_final = self.draw_samples()\r\n",
        "\r\n",
        "        return [train_losses, *samples_init, *samples_final]\r\n",
        "\r\n",
        "    def train_epoch(self):\r\n",
        "        self.generator.train()\r\n",
        "        self.critic.train()\r\n",
        "        \r\n",
        "        g_losses, c_losses = [], []\r\n",
        "        for i, x in enumerate(self.train_loader):\r\n",
        "            x = x.to(device).contiguous().float()\r\n",
        "\r\n",
        "            c_loss = self.critic_loss(x)\r\n",
        "            self.critic_optimizer.zero_grad()\r\n",
        "            c_loss.backward()\r\n",
        "            self.critic_optimizer.step()\r\n",
        "            c_losses.append(c_loss.item())\r\n",
        "\r\n",
        "            if not i % self.generator_step:\r\n",
        "                g_loss = self.generator_loss(x)\r\n",
        "                self.generator_optimizer.zero_grad()\r\n",
        "                g_loss.backward()\r\n",
        "                self.generator_optimizer.step()\r\n",
        "                g_losses.append(g_loss.item())\r\n",
        "\r\n",
        "        return g_losses, c_losses\r\n",
        "\r\n",
        "    \r\n",
        "    def draw_samples(self, n=5000):\r\n",
        "        self.generator.eval()\r\n",
        "        self.critic.eval()\r\n",
        "        grid = np.linspace(-1, 1, 1000)\r\n",
        "        \r\n",
        "        samples = self.generator.sample(n)\r\n",
        "        samples = samples.detach().cpu().numpy()\r\n",
        "        \r\n",
        "        critic_out = self.critic(\r\n",
        "            torch.FloatTensor(grid).to(device).unsqueeze(1)\r\n",
        "        )\r\n",
        "        critic_out = critic_out.detach().cpu().numpy()\r\n",
        "        \r\n",
        "        return samples, grid, critic_out"
      ],
      "execution_count": 86,
      "outputs": []
    },
    {
      "cell_type": "code",
      "metadata": {
        "id": "DKFe_zu3C3wK"
      },
      "source": [
        "class MLP(nn.Module):\n",
        "    def __init__(self, input_size, out_size=1, num_hiddens=3, hidden_size=128):\n",
        "        super().__init__()\n",
        "        \n",
        "        layers = []\n",
        "        sizes = [input_size] + [hidden_size] * num_hiddens + [out_size]\n",
        "        for inp_size, out_size in zip(sizes, sizes[1:]):\n",
        "            layers.append(nn.Linear(inp_size, out_size))\n",
        "            layers.append(nn.LeakyReLU(0.2))\n",
        "        layers.pop(-1)\n",
        "        self.layers = nn.Sequential(*layers)\n",
        "    \n",
        "    def forward(self, x):\n",
        "        return self.layers(x)\n",
        "\n",
        "class Generator(nn.Module):\n",
        "    def __init__(self, latent_size, data_size=1, num_hiddens=3, hidden_size=128):\n",
        "        super().__init__()\n",
        "\n",
        "        self.latent_size = latent_size\n",
        "        self.mlp = MLP(latent_size, data_size, num_hiddens, hidden_size)\n",
        "\n",
        "    def forward(self, z):\n",
        "        return F.tanh(self.mlp(z))\n",
        "        \n",
        "    def sample(self, n):\n",
        "        z = torch.normal(torch.zeros(n, self.latent_size, device=device), \n",
        "                         torch.ones(n, self.latent_size, device=device))\n",
        "        return self(z)\n",
        "\n",
        "class Critic(nn.Module):\n",
        "    def __init__(self, latent_size, data_size=1, num_hiddens=3, hidden_size=128):\n",
        "        super().__init__()\n",
        "        self.mlp = MLP(latent_size, data_size, num_hiddens, hidden_size)\n",
        "    \n",
        "    def forward(self, z):\n",
        "        return F.sigmoid(self.mlp(z))"
      ],
      "execution_count": 87,
      "outputs": []
    },
    {
      "cell_type": "code",
      "metadata": {
        "id": "pfyB3DFgKfA5"
      },
      "source": [
        "def q1_a(train_data):\n",
        "    \"\"\"\n",
        "    train_data: An (20000, 1) numpy array of floats in [-1, 1]\n",
        "\n",
        "    Returns\n",
        "    - a (# of training iterations,) numpy array of discriminator losses evaluated every minibatch\n",
        "    - a numpy array of size (5000,) of samples drawn from your model at epoch #1\n",
        "    - a numpy array of size (1000,) linearly spaced from [-1, 1]; hint: np.linspace\n",
        "    - a numpy array of size (1000,), corresponding to the discriminator output (after sigmoid) \n",
        "        at each location in the previous array at epoch #1\n",
        "\n",
        "    - a numpy array of size (5000,) of samples drawn from your model at the end of training\n",
        "    - a numpy array of size (1000,) linearly spaced from [-1, 1]; hint: np.linspace\n",
        "    - a numpy array of size (1000,), corresponding to the discriminator output (after sigmoid) \n",
        "        at each location in the previous array at the end of training\n",
        "    \"\"\"\n",
        "\n",
        "    \"\"\" YOUR CODE HERE \"\"\"\n",
        "    train_loader = DataLoader(train_data, batch_size=64, shuffle=True)\n",
        "    critic = Critic(1, 1, 3, 64).to(device)\n",
        "    generator = Generator(1, 1, 3, 64).to(device)\n",
        "\n",
        "    trainer = Trainer(critic, \n",
        "                      generator, \n",
        "                      train_loader, \n",
        "                      num_epochs=25, \n",
        "                      lr=1e-4, \n",
        "                      clip_grad=1., \n",
        "                      generator_step=2, \n",
        "                      non_saturating=False)\n",
        "    train_losses, *other_out = trainer.train()\n",
        "\n",
        "    return [train_losses[1], *other_out]"
      ],
      "execution_count": 88,
      "outputs": []
    },
    {
      "cell_type": "markdown",
      "metadata": {
        "id": "KLrFM7TQwZkC"
      },
      "source": [
        "### Results"
      ]
    },
    {
      "cell_type": "code",
      "metadata": {
        "id": "icqjV8bEwfst",
        "colab": {
          "base_uri": "https://localhost:8080/",
          "height": 905,
          "referenced_widgets": [
            "f3c44f5cd85f44f4927b7a489edbda77",
            "961bf43722ec4a83ba8f67cb2e717903",
            "cb938158f220447f8d8c8b82c5c0f812",
            "8c6cc8992afc48b6a6660a797907f653",
            "3f7b4efc6856456d88ff1f1e96e6e0c0",
            "3964f88087734036b9ed4d1de20bbd6e",
            "4a41229d87114e43a6a874ea7ba52a97",
            "29681e406b4143eb84b1190afa70e686"
          ]
        },
        "outputId": "4d56244b-412a-4712-8fb0-d20fd8e1e593"
      },
      "source": [
        "q1_save_results('a', q1_a)"
      ],
      "execution_count": 89,
      "outputs": [
        {
          "output_type": "display_data",
          "data": {
            "application/vnd.jupyter.widget-view+json": {
              "model_id": "f3c44f5cd85f44f4927b7a489edbda77",
              "version_minor": 0,
              "version_major": 2
            },
            "text/plain": [
              "HBox(children=(FloatProgress(value=0.0, max=25.0), HTML(value='')))"
            ]
          },
          "metadata": {
            "tags": []
          }
        },
        {
          "output_type": "stream",
          "text": [
            "\n"
          ],
          "name": "stdout"
        },
        {
          "output_type": "display_data",
          "data": {
            "image/png": "[encoded data removed]",
            "text/plain": [
              "<Figure size 432x288 with 1 Axes>"
            ]
          },
          "metadata": {
            "tags": [],
            "needs_background": "light"
          }
        },
        {
          "output_type": "display_data",
          "data": {
            "image/png": "[encoded data removed]",
            "text/plain": [
              "<Figure size 432x288 with 1 Axes>"
            ]
          },
          "metadata": {
            "tags": [],
            "needs_background": "light"
          }
        },
        {
          "output_type": "display_data",
          "data": {
            "image/png": "[encoded data removed]",
            "text/plain": [
              "<Figure size 432x288 with 1 Axes>"
            ]
          },
          "metadata": {
            "tags": [],
            "needs_background": "light"
          }
        }
      ]
    },
    {
      "cell_type": "markdown",
      "metadata": {
        "id": "2x4hfHRbZrDT"
      },
      "source": [
        "## Part 1(b)\n",
        "Here, we'll use the non-saturating formulation of the GAN objective. Now, we have two separate losses:\n",
        "$$L^{(D)} = \\mathbb{E}_{x \\sim p_{data}} [\\log D(x)] + \\mathbb{E}_{z \\sim p(z)}[\\log (1-D(G(z)))]$$\n",
        "$$L^{(G} = - \\mathbb{E}_{z \\sim p(z)} \\log(D(G(z))$$"
      ]
    },
    {
      "cell_type": "markdown",
      "metadata": {
        "id": "_Uun1MzfwpuC"
      },
      "source": [
        " ### Solution"
      ]
    },
    {
      "cell_type": "code",
      "metadata": {
        "id": "MJeEgn6zZst0"
      },
      "source": [
        "def q1_b(train_data):\n",
        "    \"\"\"\n",
        "    train_data: An (20000, 1) numpy array of floats in [-1, 1]\n",
        "\n",
        "    Returns\n",
        "    - a (# of training iterations,) numpy array of discriminator losses evaluated every minibatch\n",
        "    - a numpy array of size (5000,) of samples drawn from your model at epoch #1\n",
        "    - a numpy array of size (100,) linearly spaced from [-1, 1]; hint: np.linspace\n",
        "    - a numpy array of size (100,), corresponding to the discriminator output (after sigmoid) \n",
        "        at each location in the previous array at epoch #1\n",
        "\n",
        "    - a numpy array of size (5000,) of samples drawn from your model at the end of training\n",
        "    - a numpy array of size (1000,) linearly spaced from [-1, 1]; hint: np.linspace\n",
        "    - a numpy array of size (1000,), corresponding to the discriminator output (after sigmoid) \n",
        "        at each location in the previous array at the end of training\n",
        "    \"\"\"\n",
        "\n",
        "    \"\"\" YOUR CODE HERE \"\"\"\n",
        "    train_loader = DataLoader(train_data, batch_size=64, shuffle=True)\n",
        "    critic = Critic(1, 1, 3, 64).to(device)\n",
        "    generator = Generator(1, 1, 3, 64).to(device)\n",
        "\n",
        "    trainer = Trainer(critic, \n",
        "                      generator, \n",
        "                      train_loader, \n",
        "                      num_epochs=25, \n",
        "                      lr=1e-4, \n",
        "                      clip_grad=1., \n",
        "                      generator_step=2, \n",
        "                      non_saturating=True)\n",
        "    train_losses, *other_out = trainer.train()\n",
        "\n",
        "    return [train_losses[1], *other_out]"
      ],
      "execution_count": 90,
      "outputs": []
    },
    {
      "cell_type": "markdown",
      "metadata": {
        "id": "b0VSrZWzwrzT"
      },
      "source": [
        " ### Results"
      ]
    },
    {
      "cell_type": "code",
      "metadata": {
        "id": "xfv-DeVKwtXl",
        "colab": {
          "base_uri": "https://localhost:8080/",
          "height": 905,
          "referenced_widgets": [
            "852ace7793874cdda7129e83ab8cb3e7",
            "1699042e26ef45c69885ee6a3ab92f2c",
            "9c3d7c85a4d44c56b3ea42d0e5163210",
            "af275196c85f4ddcb810ea33a05183a2",
            "492dbab0c086462e98b898dafef880df",
            "745aced841e7406c81bb1c604e3b1276",
            "488992d9e395486886dfdcb2b5a6a378",
            "5c7e7dda4da54e11873e333ada593618"
          ]
        },
        "outputId": "2eb101e3-8922-4478-d693-67c995e3fc69"
      },
      "source": [
        "q1_save_results('b', q1_b)"
      ],
      "execution_count": 91,
      "outputs": [
        {
          "output_type": "display_data",
          "data": {
            "application/vnd.jupyter.widget-view+json": {
              "model_id": "852ace7793874cdda7129e83ab8cb3e7",
              "version_minor": 0,
              "version_major": 2
            },
            "text/plain": [
              "HBox(children=(FloatProgress(value=0.0, max=25.0), HTML(value='')))"
            ]
          },
          "metadata": {
            "tags": []
          }
        },
        {
          "output_type": "stream",
          "text": [
            "\n"
          ],
          "name": "stdout"
        },
        {
          "output_type": "display_data",
          "data": {
            "image/png": "[encoded data removed]",
            "text/plain": [
              "<Figure size 432x288 with 1 Axes>"
            ]
          },
          "metadata": {
            "tags": [],
            "needs_background": "light"
          }
        },
        {
          "output_type": "display_data",
          "data": {
            "image/png": "[encoded data removed]",
            "text/plain": [
              "<Figure size 432x288 with 1 Axes>"
            ]
          },
          "metadata": {
            "tags": [],
            "needs_background": "light"
          }
        },
        {
          "output_type": "display_data",
          "data": {
            "image/png": "[encoded data removed]",
            "text/plain": [
              "<Figure size 432x288 with 1 Axes>"
            ]
          },
          "metadata": {
            "tags": [],
            "needs_background": "light"
          }
        }
      ]
    },
    {
      "cell_type": "markdown",
      "metadata": {
        "id": "sBESzChmEfcF"
      },
      "source": [
        "# Question 2: GANs on CIFAR-10 [35pt]"
      ]
    },
    {
      "cell_type": "markdown",
      "metadata": {
        "id": "ZLRdpUxy5jc0"
      },
      "source": [
        "In this exercise, you will train GANs on CIFAR-10. Execute the cell below to visualize the dataset. "
      ]
    },
    {
      "cell_type": "code",
      "metadata": {
        "id": "-WbafudL5mnz",
        "colab": {
          "base_uri": "https://localhost:8080/",
          "height": 281
        },
        "outputId": "98d79c91-4dd2-4069-cd64-67786a82c7ac"
      },
      "source": [
        "visualize_q2_data()"
      ],
      "execution_count": 92,
      "outputs": [
        {
          "output_type": "stream",
          "text": [
            "Files already downloaded and verified\n"
          ],
          "name": "stdout"
        },
        {
          "output_type": "display_data",
          "data": {
            "image/png": "[encoded data removed]",
            "text/plain": [
              "<Figure size 432x288 with 1 Axes>"
            ]
          },
          "metadata": {
            "tags": [],
            "needs_background": "light"
          }
        }
      ]
    },
    {
      "cell_type": "markdown",
      "metadata": {
        "id": "vIYRnVafEkcd"
      },
      "source": [
        " We'll use the CIFAR-10 architecture from the [SN-GAN paper](https://arxiv.org/pdf/1802.05957.pdf), with $z \\in \\mathbb R ^{128}$, with $z \\sim \\mathcal N (0, I_{128})$. Instead of upsampling via transposed convolutions and downsampling via pooling or striding, we'll use these DepthToSpace and SpaceToDepth methods for changing the spatial configuration of our hidden states. \n",
        "\n",
        "```\n",
        "class DepthToSpace(nn.Module):\n",
        "    def __init__(self, block_size):\n",
        "        super().__init__()\n",
        "        self.block_size = block_size\n",
        "        self.block_size_sq = block_size * block_size\n",
        "\n",
        "    def forward(self, input):\n",
        "        output = input.permute(0, 2, 3, 1)\n",
        "        (batch_size, d_height, d_width, d_depth) = output.size()\n",
        "        s_depth = int(d_depth / self.block_size_sq)\n",
        "        s_width = int(d_width * self.block_size)\n",
        "        s_height = int(d_height * self.block_size)\n",
        "        t_1 = output.reshape(batch_size, d_height, d_width, self.block_size_sq, s_depth)\n",
        "        spl = t_1.split(self.block_size, 3)\n",
        "        stack = [t_t.reshape(batch_size, d_height, s_width, s_depth) for t_t in spl]\n",
        "        output = torch.stack(stack, 0).transpose(0, 1).permute(0, 2, 1, 3, 4).reshape(batch_size, s_height, s_width,\n",
        "                                                                                      s_depth)\n",
        "        output = output.permute(0, 3, 1, 2)\n",
        "        return output\n",
        "\n",
        "\n",
        "class SpaceToDepth(nn.Module):\n",
        "    def __init__(self, block_size):\n",
        "        super().__init__()\n",
        "        self.block_size = block_size\n",
        "        self.block_size_sq = block_size * block_size\n",
        "\n",
        "    def forward(self, input):\n",
        "        output = input.permute(0, 2, 3, 1)\n",
        "        (batch_size, s_height, s_width, s_depth) = output.size()\n",
        "        d_depth = s_depth * self.block_size_sq\n",
        "        d_width = int(s_width / self.block_size)\n",
        "        d_height = int(s_height / self.block_size)\n",
        "        t_1 = output.split(self.block_size, 2)\n",
        "        stack = [t_t.reshape(batch_size, d_height, d_depth) for t_t in t_1]\n",
        "        output = torch.stack(stack, 1)\n",
        "        output = output.permute(0, 2, 1, 3)\n",
        "        output = output.permute(0, 3, 1, 2)\n",
        "        return output\n",
        "\n",
        "# Spatial Upsampling with Nearest Neighbors\n",
        "Upsample_Conv2d(in_dim, out_dim, kernel_size=(3, 3), stride=1, padding=1):\n",
        "    x = torch.cat([x, x, x, x], dim=1)\n",
        "    DepthToSpace(block_size=2)\n",
        "    Conv2d(in_dim, out_dim, kernel_size, stride=stride, padding=padding)\n",
        "\n",
        "\n",
        "# Spatial Downsampling with Spatial Mean Pooling\n",
        "Downsample_Conv2d(in_dim, out_dim, kernel_size=(3, 3), stride=1, padding=1):\n",
        "        SpaceToDepth(2)\n",
        "        torch.sum(x.chunk(4, dim=1)) / 4.0\n",
        "        nn.Conv2d(in_dim, out_dim, kernel_size,\n",
        "                              stride=stride, padding=padding, bias=bias)\n",
        "```\n",
        "\n",
        "Here's pseudocode for how we'll implement a ResBlockUp, used in the generator:\n",
        "\n",
        "```\n",
        "ResnetBlockUp(x, in_dim, kernel_size=(3, 3), n_filters=256):\n",
        "    _x = x\n",
        "    _x = nn.BatchNorm2d(in_dim)(_x)\n",
        "    _x = nn.ReLU()(_x)\n",
        "    _x = nn.Conv2d(in_dim, n_filters, kernel_size, padding=1)(_x)\n",
        "    _x = nn.BatchNorm2d(n_filters)(_x)\n",
        "    _x = nn.ReLU()(_x)\n",
        "    residual = Upsample_Conv2d(n_filters, n_filters, kernel_size, padding=1)(_x)\n",
        "    shortcut = Upsample_Conv2d(in_dim, n_filters, kernel_size=(1, 1), padding=0)(x)\n",
        "    return residual + shortcut\n",
        "```\n",
        "The ResBlockDown module is similar, except it uses Downsample_Conv2d and omits the BatchNorm.\n",
        "\n",
        "Finally, here's the architecture for the generator:\n",
        "```\n",
        "def Generator(*, n_samples=1024, n_filters=128):\n",
        "    z = Normal(0, 1)([n_samples, 128])\n",
        "    nn.Linear(128, 4*4*256)\n",
        "    reshape output of linear layer\n",
        "    ResnetBlockUp(in_dim=256, n_filters=n_filters),\n",
        "    ResnetBlockUp(in_dim=n_filters, n_filters=n_filters),\n",
        "    ResnetBlockUp(in_dim=n_filters, n_filters=n_filters),\n",
        "    nn.BatchNorm2d(n_filters),\n",
        "    nn.ReLU(),\n",
        "    nn.Conv2d(n_filters, 3, kernel_size=(3, 3), padding=1),\n",
        "    nn.Tanh()\n",
        "```\n",
        "Again, the discriminator has the same architecture, except with ResnetBlockDown and no BatchNorm.\n",
        "\n",
        "**Hyperparameters**\n",
        "\n",
        "We'll implement [WGAN-GP](https://arxiv.org/abs/1704.00028), which uses a gradient penalty to regularize the discriminator. Use the Adam optimizer with $\\alpha = 2e-4$, $\\beta_1 = 0$, $\\beta_2 = 0.9$, $\\lambda = 10$, $n_{critic} = 5$. Use a batch size of 256 and n_filters=128 within the ResBlocks. Train for at least 25000 gradient steps, with the learning rate linearly annealed to 0 over training. \n",
        "\n",
        "**You will provide the following deliverables**\n",
        "1. Inception score (CIFAR-10 version) of the final model. We provide a utility that will automatically do this for you.\n",
        "2. Fréchet inception distance (bonus, 5pts)\n",
        "3. Discriminator loss across training\n",
        "4. 100 samples. "
      ]
    },
    {
      "cell_type": "markdown",
      "metadata": {
        "id": "WlY4YYyedBlR"
      },
      "source": [
        "## Solution"
      ]
    },
    {
      "cell_type": "code",
      "metadata": {
        "id": "7dMCW51n7Kf6"
      },
      "source": [
        "class DepthToSpace(nn.Module):\n",
        "    def __init__(self, block_size):\n",
        "        super().__init__()\n",
        "        self.block_size = block_size\n",
        "        self.block_size_sq = block_size * block_size\n",
        "\n",
        "    def forward(self, x):\n",
        "        output = x.permute(0, 2, 3, 1)\n",
        "        (batch_size, d_height, d_width, d_depth) = output.size()\n",
        "        s_depth = int(d_depth / self.block_size_sq)\n",
        "        s_width = int(d_width * self.block_size)\n",
        "        s_height = int(d_height * self.block_size)\n",
        "        t_1 = output.reshape(batch_size, d_height, d_width, self.block_size_sq, s_depth)\n",
        "        spl = t_1.split(self.block_size, 3)\n",
        "        stack = [t_t.reshape(batch_size, d_height, s_width, s_depth) for t_t in spl]\n",
        "        output = torch.stack(stack, 0).transpose(0, 1).permute(0, 2, 1, 3, 4).reshape(batch_size, s_height, s_width, s_depth)\n",
        "        output = output.permute(0, 3, 1, 2)\n",
        "\n",
        "        return output.contiguous()\n",
        "\n",
        "\n",
        "class SpaceToDepth(nn.Module):\n",
        "    def __init__(self, block_size):\n",
        "        super().__init__()\n",
        "        self.block_size = block_size\n",
        "        self.block_size_sq = block_size * block_size\n",
        "\n",
        "    def forward(self, x):\n",
        "        output = x.permute(0, 2, 3, 1)\n",
        "        (batch_size, s_height, s_width, s_depth) = output.size()\n",
        "        d_depth = s_depth * self.block_size_sq\n",
        "        d_width = int(s_width / self.block_size)\n",
        "        d_height = int(s_height / self.block_size)\n",
        "        t_1 = output.split(self.block_size, 2)\n",
        "        stack = [t_t.reshape(batch_size, d_height, d_depth) for t_t in t_1]\n",
        "        output = torch.stack(stack, 1)\n",
        "        output = output.permute(0, 2, 1, 3)\n",
        "        output = output.permute(0, 3, 1, 2)\n",
        "\n",
        "        return output.contiguous()\n",
        "\n",
        "\n",
        "class Upsample_Conv2d(nn.Module):\n",
        "    def __init__(self, in_dim, out_dim, kernel_size=(3, 3), stride=1, padding=1, bias=True):\n",
        "        super().__init__()\n",
        "        self.depth2space = DepthToSpace(2)\n",
        "        self.conv = nn.Conv2d(in_dim, \n",
        "                              out_dim, \n",
        "                              kernel_size,\n",
        "                              stride=stride, \n",
        "                              padding=padding, \n",
        "                              bias=bias)\n",
        "        \n",
        "    def forward(self, x):\n",
        "        x = torch.cat([x, x, x, x], dim=1)\n",
        "        x = self.depth2space(x)\n",
        "        x = self.conv(x)\n",
        "        return x\n",
        "\n",
        "\n",
        "class Downsample_Conv2d(nn.Module):\n",
        "    def __init__(self, in_dim, out_dim, kernel_size=(3, 3), stride=1, padding=1, bias=True):\n",
        "        super().__init__()\n",
        "        self.space2depth = SpaceToDepth(2)\n",
        "        self.conv = nn.Conv2d(in_dim, \n",
        "                              out_dim, \n",
        "                              kernel_size, \n",
        "                              stride=stride, \n",
        "                              padding=padding, \n",
        "                              bias=bias)\n",
        "\n",
        "    def forward(self, x):\n",
        "        x = self.space2depth(x)\n",
        "        x = sum(x.chunk(4, dim=1)) / 4.0\n",
        "        x = self.conv(x)\n",
        "        return x\n",
        "\n",
        "\n",
        "class ResnetBlockUp(nn.Module):\n",
        "    def __init__(self, in_dim, kernel_size=(3, 3), n_filters=256):\n",
        "        super(ResnetBlockUp, self).__init__()\n",
        "        self.layers = nn.Sequential(\n",
        "            nn.BatchNorm2d(in_dim),\n",
        "            nn.ReLU(),\n",
        "            nn.Conv2d(in_dim, n_filters, kernel_size, padding=1),\n",
        "            nn.BatchNorm2d(n_filters),\n",
        "            nn.ReLU()\n",
        "        )\n",
        "        self.residual = Upsample_Conv2d(n_filters, n_filters, kernel_size, padding=1)\n",
        "        self.shortcut = Upsample_Conv2d(in_dim, n_filters, kernel_size=(1, 1), padding=0)\n",
        "\n",
        "    def forward(self, x):\n",
        "        _x = x.clone().detach()\n",
        "        _x = self.layers(_x)\n",
        "        _x = self.residual(_x)\n",
        "        return _x + self.shortcut(x)\n",
        "\n",
        "\n",
        "class ResnetBlockDown(nn.Module):\n",
        "    def __init__(self, in_dim, kernel_size=(3, 3), stride=1, n_filters=256):\n",
        "        super(ResnetBlockDown, self).__init__()\n",
        "        self.layers = nn.Sequential(\n",
        "            nn.ReLU(),\n",
        "            nn.Conv2d(in_dim, n_filters, kernel_size, stride=stride, padding=1),\n",
        "            nn.ReLU()\n",
        "        )\n",
        "        self.residual = Downsample_Conv2d(n_filters, n_filters, kernel_size)\n",
        "        self.shortcut = Downsample_Conv2d(in_dim, n_filters, kernel_size=(1, 1), padding=0)\n",
        "\n",
        "    def forward(self, x):\n",
        "        _x = x.clone().detach()\n",
        "        _x = self.layers(_x)\n",
        "        _x = self.residual(_x)\n",
        "        return _x + self.shortcut(x)\n",
        "\n",
        "\n",
        "class Generator(nn.Module):\n",
        "    def __init__(self, n_filters=256):\n",
        "        super().__init__()\n",
        "        self.proj = nn.Linear(128, 4 * 4 * 256)\n",
        "        self.layers = nn.Sequential(\n",
        "            ResnetBlockUp(in_dim=256, n_filters=n_filters),\n",
        "            ResnetBlockUp(in_dim=n_filters, n_filters=n_filters),\n",
        "            ResnetBlockUp(in_dim=n_filters, n_filters=n_filters),\n",
        "            nn.BatchNorm2d(n_filters),\n",
        "            nn.ReLU(),\n",
        "            nn.Conv2d(n_filters, 3, kernel_size=(3, 3), padding=1),\n",
        "            nn.Tanh()\n",
        "        )\n",
        "        self.noise = Normal(torch.tensor(0.), torch.tensor(1.))\n",
        "\n",
        "    def forward(self, z):\n",
        "        z = self.proj(z).reshape(-1, 256, 4, 4)\n",
        "        return self.layers(z)\n",
        "\n",
        "    def sample(self, n_samples=1024):\n",
        "        z = self.noise.sample([n_samples, 128]).to(device)\n",
        "        return self.forward(z)\n",
        "\n",
        "\n",
        "class ResBlock(nn.Module):\n",
        "    def __init__(self, in_dim, kernel_size=(3, 3), n_filters=256):\n",
        "        super().__init__()\n",
        "        self.layers = nn.Sequential(\n",
        "            nn.ReLU(),\n",
        "            nn.Conv2d(in_dim, n_filters, kernel_size, padding=1),\n",
        "            nn.ReLU(),\n",
        "            nn.Conv2d(n_filters, n_filters, kernel_size, padding=1)\n",
        "        )\n",
        "\n",
        "    def forward(self, x):\n",
        "        _x = x.clone().detach()\n",
        "        _x = self.layers(_x)\n",
        "        return x + _x\n",
        "\n",
        "\n",
        "class Critic(nn.Module):\n",
        "    def __init__(self):\n",
        "        super().__init__()\n",
        "        self.layers = nn.Sequential(\n",
        "            ResnetBlockDown(3, n_filters=128),\n",
        "            ResnetBlockDown(128, n_filters=128),\n",
        "            ResBlock(128, n_filters=128),\n",
        "            ResBlock(128, n_filters=128),\n",
        "            nn.ReLU()\n",
        "        )\n",
        "        self.proj = nn.Linear(128, 1)\n",
        "\n",
        "    def forward(self, x):\n",
        "        x = self.layers(x)\n",
        "        x = torch.sum(x, dim=(2, 3))\n",
        "        return self.proj(x)"
      ],
      "execution_count": 6,
      "outputs": []
    },
    {
      "cell_type": "markdown",
      "metadata": {
        "id": "Nea_nqhc7Xlu"
      },
      "source": [
        "### Training Code"
      ]
    },
    {
      "cell_type": "code",
      "metadata": {
        "id": "FJbJsmocmjLC"
      },
      "source": [
        "class Trainer:\r\n",
        "    def __init__(self, critic, generator, train_loader, num_epochs=10, c_lr=3e-4, g_lr=2e-4, clip_grad=1., generator_step=2):\r\n",
        "        self.critic = critic\r\n",
        "        self.generator = generator\r\n",
        "\r\n",
        "        self.critic_optimizer = Adam(critic.parameters(), lr=c_lr, betas=(0, 0.9))\r\n",
        "        self.generator_optimizer = Adam(generator.parameters(), lr=g_lr, betas=(0, 0.9))\r\n",
        "        \r\n",
        "        self.critic_scheduler = torch.optim.lr_scheduler.LambdaLR(\r\n",
        "            self.critic_optimizer,\r\n",
        "            lambda epoch: (num_epochs - epoch) / num_epochs,\r\n",
        "            last_epoch=-1\r\n",
        "        )\r\n",
        "        \r\n",
        "        self.generator_scheduler = torch.optim.lr_scheduler.LambdaLR(\r\n",
        "            self.generator_optimizer,\r\n",
        "            lambda epoch: (num_epochs - epoch) / num_epochs,\r\n",
        "            last_epoch=-1\r\n",
        "        )\r\n",
        "        \r\n",
        "        self.clip_grad = clip_grad\r\n",
        "        self.generator_step = generator_step\r\n",
        "        self.num_epochs = num_epochs\r\n",
        "        self.train_loader = train_loader\r\n",
        "\r\n",
        "    def generator_loss(self, x):\r\n",
        "        data_gen = self.generator.sample(x.size(0))     \r\n",
        "        return -self.critic(data_gen).mean()\r\n",
        "\r\n",
        "    def critic_loss(self, x):\r\n",
        "        data_gen = self.generator.sample(x.size(0))\r\n",
        "        penalty = self.penalty(x, data_gen) * 10\r\n",
        "        return self.critic(data_gen).mean() - self.critic(x).mean() + penalty\r\n",
        "\r\n",
        "    def penalty(self, x_real, x_gen):\r\n",
        "        bs = x_real.size(0)\r\n",
        "\r\n",
        "        eps = torch.rand(bs, 1, 1, 1).expand_as(x_real).to(device)\r\n",
        "        inter = eps * x_real.data + (1 - eps) * x_gen.data\r\n",
        "        inter.requires_grad_()\r\n",
        "\r\n",
        "        critic_out = self.critic(inter)\r\n",
        "        grad, *_ = torch.autograd.grad(inputs=inter,\r\n",
        "                                       outputs=critic_out,\r\n",
        "                                       grad_outputs=torch.ones_like(critic_out, device=device),\r\n",
        "                                       create_graph=True, \r\n",
        "                                       retain_graph=True)\r\n",
        "\r\n",
        "        grad_norm = torch.sqrt((grad.reshape(bs, -1) ** 2).sum(1) + 1e-13)\r\n",
        "        \r\n",
        "        return torch.mean((grad_norm - 1) ** 2)\r\n",
        "\r\n",
        "    def train(self):\r\n",
        "        train_losses = []\r\n",
        "        pbar = tqdm(range(self.num_epochs), total=self.num_epochs)\r\n",
        "        for epoch in pbar:            \r\n",
        "            epoch_losses = self.train_epoch()\r\n",
        "            c_loss = np.mean(epoch_losses)\r\n",
        "            train_losses.append(c_loss)\r\n",
        "            \r\n",
        "            pbar.set_postfix_str(f'Epoch #{epoch}, c_loss: {c_loss:.4f}')\r\n",
        "\r\n",
        "        return train_losses\r\n",
        "\r\n",
        "    def train_epoch(self):\r\n",
        "        self.generator.train()\r\n",
        "        self.critic.train()\r\n",
        "        \r\n",
        "        c_losses = []\r\n",
        "        for i, x in tqdm(enumerate(self.train_loader), total=len(self.train_loader)):\r\n",
        "            x = x.to(device).contiguous().float()\r\n",
        "\r\n",
        "            c_loss = self.critic_loss(x)\r\n",
        "            self.critic_optimizer.zero_grad()\r\n",
        "            c_loss.backward()\r\n",
        "            self.critic_optimizer.step()\r\n",
        "            c_losses.append(c_loss.item())\r\n",
        "\r\n",
        "            if not i % self.generator_step:\r\n",
        "                g_loss = self.generator_loss(x)\r\n",
        "                self.generator_optimizer.zero_grad()\r\n",
        "                g_loss.backward()\r\n",
        "                self.generator_optimizer.step()\r\n",
        "\r\n",
        "                self.critic_scheduler.step()\r\n",
        "                self.generator_scheduler.step()\r\n",
        "\r\n",
        "        return c_losses"
      ],
      "execution_count": 7,
      "outputs": []
    },
    {
      "cell_type": "code",
      "metadata": {
        "id": "e8UX3mGtdB1A"
      },
      "source": [
        "def q2(train_data):\n",
        "    \"\"\"\n",
        "    train_data: An (n_train, 3, 32, 32) numpy array of CIFAR-10 images with values in [0, 1]\n",
        "\n",
        "    Returns\n",
        "    - a (# of training iterations,) numpy array of WGAN critic train losses evaluated every minibatch\n",
        "    - a (1000, 32, 32, 3) numpy array of samples from your model in [0, 1]. \n",
        "        The first 100 will be displayed, and the rest will be used to calculate the Inception score. \n",
        "    \"\"\"\n",
        "\n",
        "    \"\"\" YOUR CODE HERE \"\"\"\n",
        "\n",
        "    train_loader = DataLoader(train_data, batch_size=512, shuffle=True)\n",
        "    generator= Generator().to(device)\n",
        "    critic = Critic().to(device)\n",
        "\n",
        "    trainer = Trainer(critic, \n",
        "                      generator, \n",
        "                      train_loader, \n",
        "                      num_epochs=30,  \n",
        "                      clip_grad=5., \n",
        "                      generator_step=2)\n",
        "    \n",
        "    train_losses = trainer.train()\n",
        "\n",
        "    trainer.generator.eval()\n",
        "    trainer.critic.eval()\n",
        "    with torch.no_grad():\n",
        "        samples = trainer.generator.sample(1000)\n",
        "        samples = samples.permute(0, 2, 3, 1).detach().cpu().numpy() * 0.5 + 0.5\n",
        "    \n",
        "    return train_losses, samples"
      ],
      "execution_count": 14,
      "outputs": []
    },
    {
      "cell_type": "markdown",
      "metadata": {
        "id": "UydRmPpLdEar"
      },
      "source": [
        "## Results"
      ]
    },
    {
      "cell_type": "code",
      "metadata": {
        "id": "uRgINbsJdbPH",
        "colab": {
          "base_uri": "https://localhost:8080/",
          "height": 98,
          "referenced_widgets": [
            "3b872c7b2f954c20b950ec30a7fdce24",
            "45dc9f9bfab1405d9a3cc2fea11646dd",
            "aed1216399344f4b96076b00ea5bcfa4",
            "2fe7967ef15c46bc9c5675ccf988bcfb",
            "c0946a8d8a4346e8bd557722301a01b1",
            "d00c2827004443aa9740541c8a56d0c7",
            "bd9135c6ddcc43a4aaf05b3ce32a3e4c",
            "39d24d7527cc4cf5bf30930839da748c",
            "7dd5e096df9b499d813b88254765e175",
            "8662f3d255b8443a9501bc88e150c7b9",
            "a7895ecccfe44c5dbefd872873c937c0",
            "cadb059bbbb24f0891a09f8fd7d7bb9a",
            "6f2ce91558db4240864889694b4ab319",
            "5a5d42f009bf43fd97e10a498aa7cf51",
            "1687a505c2ba43f5aea1434adfc20643",
            "28e01b7594fd4db4b2f0fe71090ade2f"
          ]
        },
        "outputId": "2af8b7b8-bef2-47e5-a09c-c6779affac10"
      },
      "source": [
        "q2_save_results(q2)"
      ],
      "execution_count": null,
      "outputs": [
        {
          "output_type": "stream",
          "text": [
            "Files already downloaded and verified\n"
          ],
          "name": "stdout"
        },
        {
          "output_type": "display_data",
          "data": {
            "application/vnd.jupyter.widget-view+json": {
              "model_id": "3b872c7b2f954c20b950ec30a7fdce24",
              "version_minor": 0,
              "version_major": 2
            },
            "text/plain": [
              "HBox(children=(FloatProgress(value=0.0, max=30.0), HTML(value='')))"
            ]
          },
          "metadata": {
            "tags": []
          }
        },
        {
          "output_type": "display_data",
          "data": {
            "application/vnd.jupyter.widget-view+json": {
              "model_id": "7dd5e096df9b499d813b88254765e175",
              "version_minor": 0,
              "version_major": 2
            },
            "text/plain": [
              "HBox(children=(FloatProgress(value=0.0, max=98.0), HTML(value='')))"
            ]
          },
          "metadata": {
            "tags": []
          }
        }
      ]
    },
    {
      "cell_type": "code",
      "metadata": {
        "id": "mTIipCW8uDUg"
      },
      "source": [
        ""
      ],
      "execution_count": null,
      "outputs": []
    }
  ]
}