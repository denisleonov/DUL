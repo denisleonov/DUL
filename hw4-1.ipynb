{
  "nbformat": 4,
  "nbformat_minor": 0,
  "metadata": {
    "colab": {
      "name": "Copy of dul_hw4.ipynb",
      "provenance": [],
      "collapsed_sections": []
    },
    "kernelspec": {
      "name": "python3",
      "display_name": "Python 3"
    },
    "accelerator": "GPU",
    "widgets": {
      "application/vnd.jupyter.widget-state+json": {
        "f3c44f5cd85f44f4927b7a489edbda77": {
          "model_module": "@jupyter-widgets/controls",
          "model_name": "HBoxModel",
          "state": {
            "_view_name": "HBoxView",
            "_dom_classes": [],
            "_model_name": "HBoxModel",
            "_view_module": "@jupyter-widgets/controls",
            "_model_module_version": "1.5.0",
            "_view_count": null,
            "_view_module_version": "1.5.0",
            "box_style": "",
            "layout": "IPY_MODEL_961bf43722ec4a83ba8f67cb2e717903",
            "_model_module": "@jupyter-widgets/controls",
            "children": [
              "IPY_MODEL_cb938158f220447f8d8c8b82c5c0f812",
              "IPY_MODEL_8c6cc8992afc48b6a6660a797907f653"
            ]
          }
        },
        "961bf43722ec4a83ba8f67cb2e717903": {
          "model_module": "@jupyter-widgets/base",
          "model_name": "LayoutModel",
          "state": {
            "_view_name": "LayoutView",
            "grid_template_rows": null,
            "right": null,
            "justify_content": null,
            "_view_module": "@jupyter-widgets/base",
            "overflow": null,
            "_model_module_version": "1.2.0",
            "_view_count": null,
            "flex_flow": null,
            "width": null,
            "min_width": null,
            "border": null,
            "align_items": null,
            "bottom": null,
            "_model_module": "@jupyter-widgets/base",
            "top": null,
            "grid_column": null,
            "overflow_y": null,
            "overflow_x": null,
            "grid_auto_flow": null,
            "grid_area": null,
            "grid_template_columns": null,
            "flex": null,
            "_model_name": "LayoutModel",
            "justify_items": null,
            "grid_row": null,
            "max_height": null,
            "align_content": null,
            "visibility": null,
            "align_self": null,
            "height": null,
            "min_height": null,
            "padding": null,
            "grid_auto_rows": null,
            "grid_gap": null,
            "max_width": null,
            "order": null,
            "_view_module_version": "1.2.0",
            "grid_template_areas": null,
            "object_position": null,
            "object_fit": null,
            "grid_auto_columns": null,
            "margin": null,
            "display": null,
            "left": null
          }
        },
        "cb938158f220447f8d8c8b82c5c0f812": {
          "model_module": "@jupyter-widgets/controls",
          "model_name": "FloatProgressModel",
          "state": {
            "_view_name": "ProgressView",
            "style": "IPY_MODEL_3f7b4efc6856456d88ff1f1e96e6e0c0",
            "_dom_classes": [],
            "description": "100%",
            "_model_name": "FloatProgressModel",
            "bar_style": "success",
            "max": 25,
            "_view_module": "@jupyter-widgets/controls",
            "_model_module_version": "1.5.0",
            "value": 25,
            "_view_count": null,
            "_view_module_version": "1.5.0",
            "orientation": "horizontal",
            "min": 0,
            "description_tooltip": null,
            "_model_module": "@jupyter-widgets/controls",
            "layout": "IPY_MODEL_3964f88087734036b9ed4d1de20bbd6e"
          }
        },
        "8c6cc8992afc48b6a6660a797907f653": {
          "model_module": "@jupyter-widgets/controls",
          "model_name": "HTMLModel",
          "state": {
            "_view_name": "HTMLView",
            "style": "IPY_MODEL_4a41229d87114e43a6a874ea7ba52a97",
            "_dom_classes": [],
            "description": "",
            "_model_name": "HTMLModel",
            "placeholder": "​",
            "_view_module": "@jupyter-widgets/controls",
            "_model_module_version": "1.5.0",
            "value": " 25/25 [00:55&lt;00:00,  2.23s/it, Epoch #24, c_loss: 1.3864, g_loss: -0.6932]",
            "_view_count": null,
            "_view_module_version": "1.5.0",
            "description_tooltip": null,
            "_model_module": "@jupyter-widgets/controls",
            "layout": "IPY_MODEL_29681e406b4143eb84b1190afa70e686"
          }
        },
        "3f7b4efc6856456d88ff1f1e96e6e0c0": {
          "model_module": "@jupyter-widgets/controls",
          "model_name": "ProgressStyleModel",
          "state": {
            "_view_name": "StyleView",
            "_model_name": "ProgressStyleModel",
            "description_width": "initial",
            "_view_module": "@jupyter-widgets/base",
            "_model_module_version": "1.5.0",
            "_view_count": null,
            "_view_module_version": "1.2.0",
            "bar_color": null,
            "_model_module": "@jupyter-widgets/controls"
          }
        },
        "3964f88087734036b9ed4d1de20bbd6e": {
          "model_module": "@jupyter-widgets/base",
          "model_name": "LayoutModel",
          "state": {
            "_view_name": "LayoutView",
            "grid_template_rows": null,
            "right": null,
            "justify_content": null,
            "_view_module": "@jupyter-widgets/base",
            "overflow": null,
            "_model_module_version": "1.2.0",
            "_view_count": null,
            "flex_flow": null,
            "width": null,
            "min_width": null,
            "border": null,
            "align_items": null,
            "bottom": null,
            "_model_module": "@jupyter-widgets/base",
            "top": null,
            "grid_column": null,
            "overflow_y": null,
            "overflow_x": null,
            "grid_auto_flow": null,
            "grid_area": null,
            "grid_template_columns": null,
            "flex": null,
            "_model_name": "LayoutModel",
            "justify_items": null,
            "grid_row": null,
            "max_height": null,
            "align_content": null,
            "visibility": null,
            "align_self": null,
            "height": null,
            "min_height": null,
            "padding": null,
            "grid_auto_rows": null,
            "grid_gap": null,
            "max_width": null,
            "order": null,
            "_view_module_version": "1.2.0",
            "grid_template_areas": null,
            "object_position": null,
            "object_fit": null,
            "grid_auto_columns": null,
            "margin": null,
            "display": null,
            "left": null
          }
        },
        "4a41229d87114e43a6a874ea7ba52a97": {
          "model_module": "@jupyter-widgets/controls",
          "model_name": "DescriptionStyleModel",
          "state": {
            "_view_name": "StyleView",
            "_model_name": "DescriptionStyleModel",
            "description_width": "",
            "_view_module": "@jupyter-widgets/base",
            "_model_module_version": "1.5.0",
            "_view_count": null,
            "_view_module_version": "1.2.0",
            "_model_module": "@jupyter-widgets/controls"
          }
        },
        "29681e406b4143eb84b1190afa70e686": {
          "model_module": "@jupyter-widgets/base",
          "model_name": "LayoutModel",
          "state": {
            "_view_name": "LayoutView",
            "grid_template_rows": null,
            "right": null,
            "justify_content": null,
            "_view_module": "@jupyter-widgets/base",
            "overflow": null,
            "_model_module_version": "1.2.0",
            "_view_count": null,
            "flex_flow": null,
            "width": null,
            "min_width": null,
            "border": null,
            "align_items": null,
            "bottom": null,
            "_model_module": "@jupyter-widgets/base",
            "top": null,
            "grid_column": null,
            "overflow_y": null,
            "overflow_x": null,
            "grid_auto_flow": null,
            "grid_area": null,
            "grid_template_columns": null,
            "flex": null,
            "_model_name": "LayoutModel",
            "justify_items": null,
            "grid_row": null,
            "max_height": null,
            "align_content": null,
            "visibility": null,
            "align_self": null,
            "height": null,
            "min_height": null,
            "padding": null,
            "grid_auto_rows": null,
            "grid_gap": null,
            "max_width": null,
            "order": null,
            "_view_module_version": "1.2.0",
            "grid_template_areas": null,
            "object_position": null,
            "object_fit": null,
            "grid_auto_columns": null,
            "margin": null,
            "display": null,
            "left": null
          }
        },
        "852ace7793874cdda7129e83ab8cb3e7": {
          "model_module": "@jupyter-widgets/controls",
          "model_name": "HBoxModel",
          "state": {
            "_view_name": "HBoxView",
            "_dom_classes": [],
            "_model_name": "HBoxModel",
            "_view_module": "@jupyter-widgets/controls",
            "_model_module_version": "1.5.0",
            "_view_count": null,
            "_view_module_version": "1.5.0",
            "box_style": "",
            "layout": "IPY_MODEL_1699042e26ef45c69885ee6a3ab92f2c",
            "_model_module": "@jupyter-widgets/controls",
            "children": [
              "IPY_MODEL_9c3d7c85a4d44c56b3ea42d0e5163210",
              "IPY_MODEL_af275196c85f4ddcb810ea33a05183a2"
            ]
          }
        },
        "1699042e26ef45c69885ee6a3ab92f2c": {
          "model_module": "@jupyter-widgets/base",
          "model_name": "LayoutModel",
          "state": {
            "_view_name": "LayoutView",
            "grid_template_rows": null,
            "right": null,
            "justify_content": null,
            "_view_module": "@jupyter-widgets/base",
            "overflow": null,
            "_model_module_version": "1.2.0",
            "_view_count": null,
            "flex_flow": null,
            "width": null,
            "min_width": null,
            "border": null,
            "align_items": null,
            "bottom": null,
            "_model_module": "@jupyter-widgets/base",
            "top": null,
            "grid_column": null,
            "overflow_y": null,
            "overflow_x": null,
            "grid_auto_flow": null,
            "grid_area": null,
            "grid_template_columns": null,
            "flex": null,
            "_model_name": "LayoutModel",
            "justify_items": null,
            "grid_row": null,
            "max_height": null,
            "align_content": null,
            "visibility": null,
            "align_self": null,
            "height": null,
            "min_height": null,
            "padding": null,
            "grid_auto_rows": null,
            "grid_gap": null,
            "max_width": null,
            "order": null,
            "_view_module_version": "1.2.0",
            "grid_template_areas": null,
            "object_position": null,
            "object_fit": null,
            "grid_auto_columns": null,
            "margin": null,
            "display": null,
            "left": null
          }
        },
        "9c3d7c85a4d44c56b3ea42d0e5163210": {
          "model_module": "@jupyter-widgets/controls",
          "model_name": "FloatProgressModel",
          "state": {
            "_view_name": "ProgressView",
            "style": "IPY_MODEL_492dbab0c086462e98b898dafef880df",
            "_dom_classes": [],
            "description": "100%",
            "_model_name": "FloatProgressModel",
            "bar_style": "success",
            "max": 25,
            "_view_module": "@jupyter-widgets/controls",
            "_model_module_version": "1.5.0",
            "value": 25,
            "_view_count": null,
            "_view_module_version": "1.5.0",
            "orientation": "horizontal",
            "min": 0,
            "description_tooltip": null,
            "_model_module": "@jupyter-widgets/controls",
            "layout": "IPY_MODEL_745aced841e7406c81bb1c604e3b1276"
          }
        },
        "af275196c85f4ddcb810ea33a05183a2": {
          "model_module": "@jupyter-widgets/controls",
          "model_name": "HTMLModel",
          "state": {
            "_view_name": "HTMLView",
            "style": "IPY_MODEL_488992d9e395486886dfdcb2b5a6a378",
            "_dom_classes": [],
            "description": "",
            "_model_name": "HTMLModel",
            "placeholder": "​",
            "_view_module": "@jupyter-widgets/controls",
            "_model_module_version": "1.5.0",
            "value": " 25/25 [00:46&lt;00:00,  1.87s/it, Epoch #24, c_loss: 1.3863, g_loss: 0.6936]",
            "_view_count": null,
            "_view_module_version": "1.5.0",
            "description_tooltip": null,
            "_model_module": "@jupyter-widgets/controls",
            "layout": "IPY_MODEL_5c7e7dda4da54e11873e333ada593618"
          }
        },
        "492dbab0c086462e98b898dafef880df": {
          "model_module": "@jupyter-widgets/controls",
          "model_name": "ProgressStyleModel",
          "state": {
            "_view_name": "StyleView",
            "_model_name": "ProgressStyleModel",
            "description_width": "initial",
            "_view_module": "@jupyter-widgets/base",
            "_model_module_version": "1.5.0",
            "_view_count": null,
            "_view_module_version": "1.2.0",
            "bar_color": null,
            "_model_module": "@jupyter-widgets/controls"
          }
        },
        "745aced841e7406c81bb1c604e3b1276": {
          "model_module": "@jupyter-widgets/base",
          "model_name": "LayoutModel",
          "state": {
            "_view_name": "LayoutView",
            "grid_template_rows": null,
            "right": null,
            "justify_content": null,
            "_view_module": "@jupyter-widgets/base",
            "overflow": null,
            "_model_module_version": "1.2.0",
            "_view_count": null,
            "flex_flow": null,
            "width": null,
            "min_width": null,
            "border": null,
            "align_items": null,
            "bottom": null,
            "_model_module": "@jupyter-widgets/base",
            "top": null,
            "grid_column": null,
            "overflow_y": null,
            "overflow_x": null,
            "grid_auto_flow": null,
            "grid_area": null,
            "grid_template_columns": null,
            "flex": null,
            "_model_name": "LayoutModel",
            "justify_items": null,
            "grid_row": null,
            "max_height": null,
            "align_content": null,
            "visibility": null,
            "align_self": null,
            "height": null,
            "min_height": null,
            "padding": null,
            "grid_auto_rows": null,
            "grid_gap": null,
            "max_width": null,
            "order": null,
            "_view_module_version": "1.2.0",
            "grid_template_areas": null,
            "object_position": null,
            "object_fit": null,
            "grid_auto_columns": null,
            "margin": null,
            "display": null,
            "left": null
          }
        },
        "488992d9e395486886dfdcb2b5a6a378": {
          "model_module": "@jupyter-widgets/controls",
          "model_name": "DescriptionStyleModel",
          "state": {
            "_view_name": "StyleView",
            "_model_name": "DescriptionStyleModel",
            "description_width": "",
            "_view_module": "@jupyter-widgets/base",
            "_model_module_version": "1.5.0",
            "_view_count": null,
            "_view_module_version": "1.2.0",
            "_model_module": "@jupyter-widgets/controls"
          }
        },
        "5c7e7dda4da54e11873e333ada593618": {
          "model_module": "@jupyter-widgets/base",
          "model_name": "LayoutModel",
          "state": {
            "_view_name": "LayoutView",
            "grid_template_rows": null,
            "right": null,
            "justify_content": null,
            "_view_module": "@jupyter-widgets/base",
            "overflow": null,
            "_model_module_version": "1.2.0",
            "_view_count": null,
            "flex_flow": null,
            "width": null,
            "min_width": null,
            "border": null,
            "align_items": null,
            "bottom": null,
            "_model_module": "@jupyter-widgets/base",
            "top": null,
            "grid_column": null,
            "overflow_y": null,
            "overflow_x": null,
            "grid_auto_flow": null,
            "grid_area": null,
            "grid_template_columns": null,
            "flex": null,
            "_model_name": "LayoutModel",
            "justify_items": null,
            "grid_row": null,
            "max_height": null,
            "align_content": null,
            "visibility": null,
            "align_self": null,
            "height": null,
            "min_height": null,
            "padding": null,
            "grid_auto_rows": null,
            "grid_gap": null,
            "max_width": null,
            "order": null,
            "_view_module_version": "1.2.0",
            "grid_template_areas": null,
            "object_position": null,
            "object_fit": null,
            "grid_auto_columns": null,
            "margin": null,
            "display": null,
            "left": null
          }
        }
      }
    }
  },
  "cells": [
    {
      "cell_type": "markdown",
      "metadata": {
        "id": "view-in-github"
      },
      "source": [
        "<a href=\"https://colab.research.google.com/github/rll/deepul/blob/master/homeworks/solutions/hw4_solutions.ipynb\" target=\"_parent\"><img src=\"https://colab.research.google.com/assets/colab-badge.svg\" alt=\"Open In Colab\"/></a>"
      ]
    },
    {
      "cell_type": "markdown",
      "metadata": {
        "id": "VtqwhK9q9D-h"
      },
      "source": [
        "# Getting Started\n",
        "\n",
        "## Overview\n",
        "This semester, all homeworks will be conducted through Google Colab notebooks. All code for the homework assignment will be written and run in this notebook. Running in Colab will automatically provide a GPU, but you may also run this notebook locally by following [these instructions](https://research.google.com/colaboratory/local-runtimes.html) if you wish to use your own GPU.\n",
        "\n",
        "You will save images in the notebooks to use and fill out a given LaTeX template which will be submitted to Gradescope, along with your notebook code.\n",
        "\n",
        "## Using Colab\n",
        "On the left-hand side, you can click the different icons to see a Table of Contents of the assignment, as well as local files accessible through the notebook.\n",
        "\n",
        "Make sure to go to **Runtime -> Change runtime type** and select **GPU** as the hardware accelerator. This allows you to use a GPU. Run the cells below to get started on the assignment. Note that a session is open for a maximum of 12 hours, and using too much GPU compute may result in restricted access for a short period of time. Please start the homework early so you have ample time to work.\n",
        "\n",
        "**If you loaded this notebook from clicking \"Open in Colab\" from github, you will need to save it to your own Google Drive to keep your work.**\n",
        "\n",
        "## General Tips\n",
        "In each homework problem, you will implement a GAN model and run it on a dataset. We provide the expected outputs to help as a sanity check.\n",
        "\n",
        "Feel free to print whatever output (e.g. debugging code, training code, etc) you want, as the graded submission will be the submitted pdf with images.\n",
        "\n",
        "After you complete the assignment, download all of the image outputted in the results/ folder and upload them to the figure folder in the given latex template.\n",
        "\n",
        "Run the cells below to download and load up the starter code."
      ]
    },
    {
      "cell_type": "code",
      "metadata": {
        "id": "sfd-DkFA9AWI",
        "colab": {
          "base_uri": "https://localhost:8080/"
        },
        "outputId": "ce925b26-b7bf-425f-cc1f-65a0dace836b"
      },
      "source": [
        "!if [ -d deepul ]; then rm -Rf deepul; fi\n",
        "!git clone https://github.com/rll/deepul.git \n",
        "!pip install ./deepul"
      ],
      "execution_count": null,
      "outputs": [
        {
          "output_type": "stream",
          "text": [
            "Cloning into 'deepul'...\n",
            "remote: Enumerating objects: 9, done.\u001b[K\n",
            "remote: Counting objects: 100% (9/9), done.\u001b[K\n",
            "remote: Compressing objects: 100% (9/9), done.\u001b[K\n",
            "remote: Total 758 (delta 1), reused 0 (delta 0), pack-reused 749\u001b[K\n",
            "Receiving objects: 100% (758/758), 117.08 MiB | 35.88 MiB/s, done.\n",
            "Resolving deltas: 100% (346/346), done.\n",
            "Checking out files: 100% (129/129), done.\n",
            "Processing ./deepul\n",
            "Building wheels for collected packages: deepul\n",
            "  Building wheel for deepul (setup.py) ... \u001b[?25l\u001b[?25hdone\n",
            "  Created wheel for deepul: filename=deepul-0.1.0-cp36-none-any.whl size=16678 sha256=16e5b92e2e8a6de7a6d8f93149cecdcfb3024d7082a623b0dce7eebbb91d0502\n",
            "  Stored in directory: /tmp/pip-ephem-wheel-cache-hcds5zuk/wheels/39/1a/4b/a6f51db275abb2e5dae32540e06ed5011e792f162467bd3aa8\n",
            "Successfully built deepul\n",
            "Installing collected packages: deepul\n",
            "Successfully installed deepul-0.1.0\n"
          ],
          "name": "stdout"
        }
      ]
    },
    {
      "cell_type": "code",
      "metadata": {
        "id": "QSb6D-qQ9W7L"
      },
      "source": [
        "from deepul.hw4_helper import *\n",
        "import deepul.pytorch_util as ptu\n",
        "import warnings\n",
        "warnings.filterwarnings('ignore')"
      ],
      "execution_count": null,
      "outputs": []
    },
    {
      "cell_type": "markdown",
      "metadata": {
        "id": "vYa4i0uxspaA"
      },
      "source": [
        "# Question 1: Warmup [20pt]\n",
        "\n",
        "In this question, we will train 3 different variants of GANs on an easy 1D dataset. \n",
        "\n",
        "Execute the cell below to visualize our datasets."
      ]
    },
    {
      "cell_type": "code",
      "metadata": {
        "id": "Fb5MioT8SZzN",
        "colab": {
          "base_uri": "https://localhost:8080/",
          "height": 265
        },
        "outputId": "11cee1c2-dd0a-4c72-f42c-a63b8951dcf3"
      },
      "source": [
        "visualize_q1_dataset()"
      ],
      "execution_count": null,
      "outputs": [
        {
          "output_type": "display_data",
          "data": {
            "image/png": "[encoded data removed]",
            "text/plain": [
              "<Figure size 432x288 with 1 Axes>"
            ]
          },
          "metadata": {
            "tags": [],
            "needs_background": "light"
          }
        }
      ]
    },
    {
      "cell_type": "code",
      "metadata": {
        "id": "osR7PW_NLRu-"
      },
      "source": [
        "import numpy as np\n",
        "import matplotlib.pyplot as plt\n",
        "import torch\n",
        "import torch.nn as nn\n",
        "import torch.nn.functional as F\n",
        "\n",
        "from torch.optim import Adam\n",
        "from torch.utils.data import DataLoader\n",
        "from scipy.stats import norm\n",
        "from tqdm.autonotebook import tqdm"
      ],
      "execution_count": null,
      "outputs": []
    },
    {
      "cell_type": "code",
      "metadata": {
        "id": "5_WvUFe7Goew"
      },
      "source": [
        "device = torch.device('cuda' if torch.cuda.is_available() else \"cpu\")"
      ],
      "execution_count": null,
      "outputs": []
    },
    {
      "cell_type": "code",
      "metadata": {
        "colab": {
          "base_uri": "https://localhost:8080/"
        },
        "id": "fh8_YdhKR6P4",
        "outputId": "4ba9ee59-ac59-4b97-cad4-fa28b8c988b0"
      },
      "source": [
        "device"
      ],
      "execution_count": null,
      "outputs": [
        {
          "output_type": "execute_result",
          "data": {
            "text/plain": [
              "device(type='cuda')"
            ]
          },
          "metadata": {
            "tags": []
          },
          "execution_count": 18
        }
      ]
    },
    {
      "cell_type": "markdown",
      "metadata": {
        "id": "WSOkSmHSL2c3"
      },
      "source": [
        "## Part 1(a)\n",
        "In this part, we'll train our generator and discriminator via the original minimax GAN objective:\n",
        "<insert GAN Objective here>\n",
        "$$min_{G} max_{D} \\mathbb{E}_{x \\sim p_{data}} [\\log D(x)] + \\mathbb{E}_{z \\sim p(z)}[\\log (1-D(G(z)))]$$\n",
        "\n",
        "Use an MLP for both your generator and your discriminator, and train until the generated distribution resembles the target distribution. \n",
        "\n"
      ]
    },
    {
      "cell_type": "markdown",
      "metadata": {
        "id": "rKl7kyUPwPSJ"
      },
      "source": [
        "### Solution"
      ]
    },
    {
      "cell_type": "code",
      "metadata": {
        "id": "j0NfR5wyGsa8"
      },
      "source": [
        "class Trainer:\r\n",
        "    def __init__(self, critic, generator, train_loader, num_epochs=10, lr=1e-2, clip_grad=1., generator_step=2, non_saturating=False):\r\n",
        "        self.critic = critic\r\n",
        "        self.generator = generator\r\n",
        "        self.critic_optimizer = Adam(critic.parameters(), lr=lr, betas=(0, 0.9))\r\n",
        "        self.generator_optimizer = Adam(generator.parameters(), lr=lr, betas=(0, 0.9))\r\n",
        "        self.lr = lr\r\n",
        "        self.clip_grad = clip_grad\r\n",
        "        self.generator_step = generator_step\r\n",
        "        self.num_epochs = num_epochs\r\n",
        "        self.train_loader = train_loader\r\n",
        "        self.non_saturating = non_saturating\r\n",
        "\r\n",
        "    def generator_loss(self, x):\r\n",
        "        data_gen = self.generator.sample(x.shape[0])\r\n",
        "        \r\n",
        "        if self.non_saturating:\r\n",
        "            return -torch.mean(self.critic(data_gen).log())\r\n",
        "        \r\n",
        "        return torch.mean((1 - self.critic(data_gen)).log())\r\n",
        "\r\n",
        "    def critic_loss(self, x):\r\n",
        "        data_gen = self.generator.sample(x.shape[0])\r\n",
        "        return - torch.mean((1 - self.critic(data_gen)).log()) \\\r\n",
        "               - torch.mean(self.critic(x).log())\r\n",
        "\r\n",
        "    def train(self):\r\n",
        "        train_losses = [[], []]\r\n",
        "        pbar = tqdm(range(self.num_epochs), total=self.num_epochs)\r\n",
        "        for epoch in pbar:\r\n",
        "            if epoch == 1:\r\n",
        "                samples_init = self.draw_samples()\r\n",
        "            \r\n",
        "            epoch_losses = self.train_epoch()\r\n",
        "            g_loss = np.mean(epoch_losses[0])\r\n",
        "            c_loss = np.mean(epoch_losses[1])\r\n",
        "            for i in range(2):\r\n",
        "                train_losses[i].extend(epoch_losses[i])\r\n",
        "            \r\n",
        "            pbar.set_postfix_str(f'Epoch #{epoch}, c_loss: {c_loss:.4f}, g_loss: {g_loss:.4f}')\r\n",
        "\r\n",
        "        samples_final = self.draw_samples()\r\n",
        "\r\n",
        "        return [train_losses, *samples_init, *samples_final]\r\n",
        "\r\n",
        "    def train_epoch(self):\r\n",
        "        self.generator.train()\r\n",
        "        self.critic.train()\r\n",
        "        \r\n",
        "        g_losses, c_losses = [], []\r\n",
        "        for i, x in enumerate(self.train_loader):\r\n",
        "            x = x.to(device).contiguous().float()\r\n",
        "\r\n",
        "            c_loss = self.critic_loss(x)\r\n",
        "            self.critic_optimizer.zero_grad()\r\n",
        "            c_loss.backward()\r\n",
        "            self.critic_optimizer.step()\r\n",
        "            c_losses.append(c_loss.item())\r\n",
        "\r\n",
        "            if not i % self.generator_step:\r\n",
        "                g_loss = self.generator_loss(x)\r\n",
        "                self.generator_optimizer.zero_grad()\r\n",
        "                g_loss.backward()\r\n",
        "                self.generator_optimizer.step()\r\n",
        "                g_losses.append(g_loss.item())\r\n",
        "\r\n",
        "        return g_losses, c_losses\r\n",
        "\r\n",
        "    \r\n",
        "    def draw_samples(self, n=5000):\r\n",
        "        self.generator.eval()\r\n",
        "        self.critic.eval()\r\n",
        "        grid = np.linspace(-1, 1, 1000)\r\n",
        "        \r\n",
        "        samples = self.generator.sample(n)\r\n",
        "        samples = samples.detach().cpu().numpy()\r\n",
        "        \r\n",
        "        critic_out = self.critic(\r\n",
        "            torch.FloatTensor(grid).to(device).unsqueeze(1)\r\n",
        "        )\r\n",
        "        critic_out = critic_out.detach().cpu().numpy()\r\n",
        "        \r\n",
        "        return samples, grid, critic_out"
      ],
      "execution_count": null,
      "outputs": []
    },
    {
      "cell_type": "code",
      "metadata": {
        "id": "DKFe_zu3C3wK"
      },
      "source": [
        "class MLP(nn.Module):\n",
        "    def __init__(self, input_size, out_size=1, num_hiddens=3, hidden_size=128):\n",
        "        super().__init__()\n",
        "        \n",
        "        layers = []\n",
        "        sizes = [input_size] + [hidden_size] * num_hiddens + [out_size]\n",
        "        for inp_size, out_size in zip(sizes, sizes[1:]):\n",
        "            layers.append(nn.Linear(inp_size, out_size))\n",
        "            layers.append(nn.LeakyReLU(0.2))\n",
        "        layers.pop(-1)\n",
        "        self.layers = nn.Sequential(*layers)\n",
        "    \n",
        "    def forward(self, x):\n",
        "        return self.layers(x)\n",
        "\n",
        "class Generator(nn.Module):\n",
        "    def __init__(self, latent_size, data_size=1, num_hiddens=3, hidden_size=128):\n",
        "        super().__init__()\n",
        "\n",
        "        self.latent_size = latent_size\n",
        "        self.mlp = MLP(latent_size, data_size, num_hiddens, hidden_size)\n",
        "\n",
        "    def forward(self, z):\n",
        "        return F.tanh(self.mlp(z))\n",
        "        \n",
        "    def sample(self, n):\n",
        "        z = torch.normal(torch.zeros(n, self.latent_size, device=device), \n",
        "                         torch.ones(n, self.latent_size, device=device))\n",
        "        return self(z)\n",
        "\n",
        "class Critic(nn.Module):\n",
        "    def __init__(self, latent_size, data_size=1, num_hiddens=3, hidden_size=128):\n",
        "        super().__init__()\n",
        "        self.mlp = MLP(latent_size, data_size, num_hiddens, hidden_size)\n",
        "    \n",
        "    def forward(self, z):\n",
        "        return F.sigmoid(self.mlp(z))"
      ],
      "execution_count": null,
      "outputs": []
    },
    {
      "cell_type": "code",
      "metadata": {
        "id": "pfyB3DFgKfA5"
      },
      "source": [
        "def q1_a(train_data):\n",
        "    \"\"\"\n",
        "    train_data: An (20000, 1) numpy array of floats in [-1, 1]\n",
        "\n",
        "    Returns\n",
        "    - a (# of training iterations,) numpy array of discriminator losses evaluated every minibatch\n",
        "    - a numpy array of size (5000,) of samples drawn from your model at epoch #1\n",
        "    - a numpy array of size (1000,) linearly spaced from [-1, 1]; hint: np.linspace\n",
        "    - a numpy array of size (1000,), corresponding to the discriminator output (after sigmoid) \n",
        "        at each location in the previous array at epoch #1\n",
        "\n",
        "    - a numpy array of size (5000,) of samples drawn from your model at the end of training\n",
        "    - a numpy array of size (1000,) linearly spaced from [-1, 1]; hint: np.linspace\n",
        "    - a numpy array of size (1000,), corresponding to the discriminator output (after sigmoid) \n",
        "        at each location in the previous array at the end of training\n",
        "    \"\"\"\n",
        "\n",
        "    \"\"\" YOUR CODE HERE \"\"\"\n",
        "    train_loader = DataLoader(train_data, batch_size=64, shuffle=True)\n",
        "    critic = Critic(1, 1, 3, 64).to(device)\n",
        "    generator = Generator(1, 1, 3, 64).to(device)\n",
        "\n",
        "    trainer = Trainer(critic, \n",
        "                      generator, \n",
        "                      train_loader, \n",
        "                      num_epochs=25, \n",
        "                      lr=1e-4, \n",
        "                      clip_grad=1., \n",
        "                      generator_step=2, \n",
        "                      non_saturating=False)\n",
        "    train_losses, *other_out = trainer.train()\n",
        "\n",
        "    return [train_losses[1], *other_out]"
      ],
      "execution_count": null,
      "outputs": []
    },
    {
      "cell_type": "markdown",
      "metadata": {
        "id": "KLrFM7TQwZkC"
      },
      "source": [
        "### Results"
      ]
    },
    {
      "cell_type": "code",
      "metadata": {
        "id": "icqjV8bEwfst",
        "colab": {
          "base_uri": "https://localhost:8080/",
          "height": 905,
          "referenced_widgets": [
            "f3c44f5cd85f44f4927b7a489edbda77",
            "961bf43722ec4a83ba8f67cb2e717903",
            "cb938158f220447f8d8c8b82c5c0f812",
            "8c6cc8992afc48b6a6660a797907f653",
            "3f7b4efc6856456d88ff1f1e96e6e0c0",
            "3964f88087734036b9ed4d1de20bbd6e",
            "4a41229d87114e43a6a874ea7ba52a97",
            "29681e406b4143eb84b1190afa70e686"
          ]
        },
        "outputId": "4d56244b-412a-4712-8fb0-d20fd8e1e593"
      },
      "source": [
        "q1_save_results('a', q1_a)"
      ],
      "execution_count": null,
      "outputs": [
        {
          "output_type": "display_data",
          "data": {
            "application/vnd.jupyter.widget-view+json": {
              "model_id": "f3c44f5cd85f44f4927b7a489edbda77",
              "version_minor": 0,
              "version_major": 2
            },
            "text/plain": [
              "HBox(children=(FloatProgress(value=0.0, max=25.0), HTML(value='')))"
            ]
          },
          "metadata": {
            "tags": []
          }
        },
        {
          "output_type": "stream",
          "text": [
            "\n"
          ],
          "name": "stdout"
        },
        {
          "output_type": "display_data",
          "data": {
            "image/png": "[encoded data removed]",
            "text/plain": [
              "<Figure size 432x288 with 1 Axes>"
            ]
          },
          "metadata": {
            "tags": [],
            "needs_background": "light"
          }
        },
        {
          "output_type": "display_data",
          "data": {
            "image/png": "[encoded data removed]",
            "text/plain": [
              "<Figure size 432x288 with 1 Axes>"
            ]
          },
          "metadata": {
            "tags": [],
            "needs_background": "light"
          }
        },
        {
          "output_type": "display_data",
          "data": {
            "image/png": "[encoded data removed]",
            "text/plain": [
              "<Figure size 432x288 with 1 Axes>"
            ]
          },
          "metadata": {
            "tags": [],
            "needs_background": "light"
          }
        }
      ]
    },
    {
      "cell_type": "markdown",
      "metadata": {
        "id": "2x4hfHRbZrDT"
      },
      "source": [
        "## Part 1(b)\n",
        "Here, we'll use the non-saturating formulation of the GAN objective. Now, we have two separate losses:\n",
        "$$L^{(D)} = \\mathbb{E}_{x \\sim p_{data}} [\\log D(x)] + \\mathbb{E}_{z \\sim p(z)}[\\log (1-D(G(z)))]$$\n",
        "$$L^{(G} = - \\mathbb{E}_{z \\sim p(z)} \\log(D(G(z))$$"
      ]
    },
    {
      "cell_type": "markdown",
      "metadata": {
        "id": "_Uun1MzfwpuC"
      },
      "source": [
        " ### Solution"
      ]
    },
    {
      "cell_type": "code",
      "metadata": {
        "id": "MJeEgn6zZst0"
      },
      "source": [
        "def q1_b(train_data):\n",
        "    \"\"\"\n",
        "    train_data: An (20000, 1) numpy array of floats in [-1, 1]\n",
        "\n",
        "    Returns\n",
        "    - a (# of training iterations,) numpy array of discriminator losses evaluated every minibatch\n",
        "    - a numpy array of size (5000,) of samples drawn from your model at epoch #1\n",
        "    - a numpy array of size (100,) linearly spaced from [-1, 1]; hint: np.linspace\n",
        "    - a numpy array of size (100,), corresponding to the discriminator output (after sigmoid) \n",
        "        at each location in the previous array at epoch #1\n",
        "\n",
        "    - a numpy array of size (5000,) of samples drawn from your model at the end of training\n",
        "    - a numpy array of size (1000,) linearly spaced from [-1, 1]; hint: np.linspace\n",
        "    - a numpy array of size (1000,), corresponding to the discriminator output (after sigmoid) \n",
        "        at each location in the previous array at the end of training\n",
        "    \"\"\"\n",
        "\n",
        "    \"\"\" YOUR CODE HERE \"\"\"\n",
        "    train_loader = DataLoader(train_data, batch_size=64, shuffle=True)\n",
        "    critic = Critic(1, 1, 3, 64).to(device)\n",
        "    generator = Generator(1, 1, 3, 64).to(device)\n",
        "\n",
        "    trainer = Trainer(critic, \n",
        "                      generator, \n",
        "                      train_loader, \n",
        "                      num_epochs=25, \n",
        "                      lr=1e-4, \n",
        "                      clip_grad=1., \n",
        "                      generator_step=2, \n",
        "                      non_saturating=True)\n",
        "    train_losses, *other_out = trainer.train()\n",
        "\n",
        "    return [train_losses[1], *other_out]"
      ],
      "execution_count": null,
      "outputs": []
    },
    {
      "cell_type": "markdown",
      "metadata": {
        "id": "b0VSrZWzwrzT"
      },
      "source": [
        " ### Results"
      ]
    },
    {
      "cell_type": "code",
      "metadata": {
        "id": "xfv-DeVKwtXl",
        "colab": {
          "base_uri": "https://localhost:8080/",
          "height": 905,
          "referenced_widgets": [
            "852ace7793874cdda7129e83ab8cb3e7",
            "1699042e26ef45c69885ee6a3ab92f2c",
            "9c3d7c85a4d44c56b3ea42d0e5163210",
            "af275196c85f4ddcb810ea33a05183a2",
            "492dbab0c086462e98b898dafef880df",
            "745aced841e7406c81bb1c604e3b1276",
            "488992d9e395486886dfdcb2b5a6a378",
            "5c7e7dda4da54e11873e333ada593618"
          ]
        },
        "outputId": "2eb101e3-8922-4478-d693-67c995e3fc69"
      },
      "source": [
        "q1_save_results('b', q1_b)"
      ],
      "execution_count": null,
      "outputs": [
        {
          "output_type": "display_data",
          "data": {
            "application/vnd.jupyter.widget-view+json": {
              "model_id": "852ace7793874cdda7129e83ab8cb3e7",
              "version_minor": 0,
              "version_major": 2
            },
            "text/plain": [
              "HBox(children=(FloatProgress(value=0.0, max=25.0), HTML(value='')))"
            ]
          },
          "metadata": {
            "tags": []
          }
        },
        {
          "output_type": "stream",
          "text": [
            "\n"
          ],
          "name": "stdout"
        },
        {
          "output_type": "display_data",
          "data": {
            "image/png": "[encoded data removed]",
            "text/plain": [
              "<Figure size 432x288 with 1 Axes>"
            ]
          },
          "metadata": {
            "tags": [],
            "needs_background": "light"
          }
        },
        {
          "output_type": "display_data",
          "data": {
            "image/png": "[encoded data removed]",
            "text/plain": [
              "<Figure size 432x288 with 1 Axes>"
            ]
          },
          "metadata": {
            "tags": [],
            "needs_background": "light"
          }
        },
        {
          "output_type": "display_data",
          "data": {
            "image/png": "[encoded data removed]",
            "text/plain": [
              "<Figure size 432x288 with 1 Axes>"
            ]
          },
          "metadata": {
            "tags": [],
            "needs_background": "light"
          }
        }
      ]
    }
  ]
}